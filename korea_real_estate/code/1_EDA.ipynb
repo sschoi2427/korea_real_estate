{
 "cells": [
  {
   "cell_type": "markdown",
   "metadata": {},
   "source": [
    "## 목차\n",
    "\n",
    " 1. [데이터 로딩](#1.-데이터-로딩)\n",
    " \n",
    "\n",
    " 2. [데이터 확인](#2.-데이터-확인)\n",
    " \n",
    "\n",
    " 3. [1차 데이터 병합 및 통계적 분석](#3.-1차-데이터-병합-및-통계적-분석) <br>\n",
    "    a. [데이터병합 1](#a.-데이터병합-1)<br>\n",
    "    b. [기초통계분석 1](#b.-기초통계분석-1)<br>\n",
    "    c. [도시 단위 그룹분석 1](#c.도시-단위-그룹분석-1)<br>\n",
    "    \n",
    "    \n",
    " 4. [2차 데이터 병합 및 통계적 분석](#4.-2차-데이터-병합-및-통계적-분석) <br>\n",
    "    a. [데이터병합 2](#a.-데이터병합-2)<br>\n",
    "    b. [기초통계분석 2](#b.-기초통계분석-2)<br>\n",
    "    \n",
    "    \n",
    " 5. [주식, 환율 데이터 분석](#5.-주식,-환율-데이터-분석)\n",
    " \n",
    " \n",
    "※ 다음 :<a href=\"./2_modeling.ipynb\"> ☞ 2번째 파일 바로가기 <a>"
   ]
  },
  {
   "cell_type": "code",
   "execution_count": 1,
   "metadata": {},
   "outputs": [],
   "source": [
    "import numpy as np\n",
    "import pandas as pd\n",
    "\n",
    "import matplotlib as mpl\n",
    "import matplotlib.pyplot as plt\n",
    "%matplotlib inline\n",
    "import seaborn as sns\n",
    "\n",
    "import warnings\n",
    "warnings.filterwarnings(action='ignore')"
   ]
  },
  {
   "cell_type": "markdown",
   "metadata": {},
   "source": [
    "## 1. 데이터 로딩"
   ]
  },
  {
   "cell_type": "code",
   "execution_count": 2,
   "metadata": {},
   "outputs": [],
   "source": [
    "busan_2017 = pd.read_csv(\"../input/busan_2017.csv\", encoding=\"cp949\")\n",
    "busan_2018 = pd.read_csv(\"../input/busan_2018.csv\", encoding=\"cp949\")\n",
    "busan_2019 = pd.read_csv(\"../input/busan_2019.csv\", encoding=\"cp949\")"
   ]
  },
  {
   "cell_type": "code",
   "execution_count": 3,
   "metadata": {},
   "outputs": [],
   "source": [
    "seoul_2017 = pd.read_csv(\"../input/seoul_2017.csv\", encoding=\"cp949\")\n",
    "seoul_2018 = pd.read_csv(\"../input/seoul_2018.csv\", encoding=\"cp949\")\n",
    "seoul_2019 = pd.read_csv(\"../input/seoul_2019.csv\", encoding=\"cp949\")"
   ]
  },
  {
   "cell_type": "markdown",
   "metadata": {},
   "source": [
    "## 2. 데이터 확인"
   ]
  },
  {
   "cell_type": "code",
   "execution_count": 4,
   "metadata": {},
   "outputs": [
    {
     "data": {
      "text/html": [
       "<div>\n",
       "<style scoped>\n",
       "    .dataframe tbody tr th:only-of-type {\n",
       "        vertical-align: middle;\n",
       "    }\n",
       "\n",
       "    .dataframe tbody tr th {\n",
       "        vertical-align: top;\n",
       "    }\n",
       "\n",
       "    .dataframe thead th {\n",
       "        text-align: right;\n",
       "    }\n",
       "</style>\n",
       "<table border=\"1\" class=\"dataframe\">\n",
       "  <thead>\n",
       "    <tr style=\"text-align: right;\">\n",
       "      <th></th>\n",
       "      <th>시군구</th>\n",
       "      <th>번지</th>\n",
       "      <th>본번</th>\n",
       "      <th>부번</th>\n",
       "      <th>단지명</th>\n",
       "      <th>전용면적(㎡)</th>\n",
       "      <th>계약년월</th>\n",
       "      <th>계약일</th>\n",
       "      <th>거래금액(만원)</th>\n",
       "      <th>층</th>\n",
       "      <th>건축년도</th>\n",
       "      <th>도로명</th>\n",
       "    </tr>\n",
       "  </thead>\n",
       "  <tbody>\n",
       "    <tr>\n",
       "      <th>0</th>\n",
       "      <td>부산광역시 강서구 녹산동</td>\n",
       "      <td>262-1</td>\n",
       "      <td>262</td>\n",
       "      <td>1</td>\n",
       "      <td>유나베네스1차</td>\n",
       "      <td>72.5242</td>\n",
       "      <td>201710</td>\n",
       "      <td>1</td>\n",
       "      <td>20500</td>\n",
       "      <td>6</td>\n",
       "      <td>2017</td>\n",
       "      <td>화전산업대로 272-9</td>\n",
       "    </tr>\n",
       "    <tr>\n",
       "      <th>1</th>\n",
       "      <td>부산광역시 강서구 녹산동</td>\n",
       "      <td>262-1</td>\n",
       "      <td>262</td>\n",
       "      <td>1</td>\n",
       "      <td>유나베네스1차</td>\n",
       "      <td>72.5242</td>\n",
       "      <td>201710</td>\n",
       "      <td>2</td>\n",
       "      <td>20500</td>\n",
       "      <td>3</td>\n",
       "      <td>2017</td>\n",
       "      <td>화전산업대로 272-9</td>\n",
       "    </tr>\n",
       "    <tr>\n",
       "      <th>2</th>\n",
       "      <td>부산광역시 강서구 녹산동</td>\n",
       "      <td>262-1</td>\n",
       "      <td>262</td>\n",
       "      <td>1</td>\n",
       "      <td>유나베네스1차</td>\n",
       "      <td>62.2475</td>\n",
       "      <td>201710</td>\n",
       "      <td>24</td>\n",
       "      <td>19000</td>\n",
       "      <td>5</td>\n",
       "      <td>2017</td>\n",
       "      <td>화전산업대로 272-9</td>\n",
       "    </tr>\n",
       "  </tbody>\n",
       "</table>\n",
       "</div>"
      ],
      "text/plain": [
       "             시군구     번지   본번  부번      단지명  전용면적(㎡)    계약년월  계약일  거래금액(만원)  층  \\\n",
       "0  부산광역시 강서구 녹산동  262-1  262   1  유나베네스1차  72.5242  201710    1     20500  6   \n",
       "1  부산광역시 강서구 녹산동  262-1  262   1  유나베네스1차  72.5242  201710    2     20500  3   \n",
       "2  부산광역시 강서구 녹산동  262-1  262   1  유나베네스1차  62.2475  201710   24     19000  5   \n",
       "\n",
       "   건축년도           도로명  \n",
       "0  2017  화전산업대로 272-9  \n",
       "1  2017  화전산업대로 272-9  \n",
       "2  2017  화전산업대로 272-9  "
      ]
     },
     "execution_count": 4,
     "metadata": {},
     "output_type": "execute_result"
    }
   ],
   "source": [
    "busan_2017[:3]"
   ]
  },
  {
   "cell_type": "code",
   "execution_count": 5,
   "metadata": {},
   "outputs": [
    {
     "data": {
      "text/html": [
       "<div>\n",
       "<style scoped>\n",
       "    .dataframe tbody tr th:only-of-type {\n",
       "        vertical-align: middle;\n",
       "    }\n",
       "\n",
       "    .dataframe tbody tr th {\n",
       "        vertical-align: top;\n",
       "    }\n",
       "\n",
       "    .dataframe thead th {\n",
       "        text-align: right;\n",
       "    }\n",
       "</style>\n",
       "<table border=\"1\" class=\"dataframe\">\n",
       "  <thead>\n",
       "    <tr style=\"text-align: right;\">\n",
       "      <th></th>\n",
       "      <th>시군구</th>\n",
       "      <th>번지</th>\n",
       "      <th>본번</th>\n",
       "      <th>부번</th>\n",
       "      <th>단지명</th>\n",
       "      <th>전용면적(㎡)</th>\n",
       "      <th>계약년월</th>\n",
       "      <th>계약일</th>\n",
       "      <th>거래금액(만원)</th>\n",
       "      <th>층</th>\n",
       "      <th>건축년도</th>\n",
       "      <th>도로명</th>\n",
       "    </tr>\n",
       "  </thead>\n",
       "  <tbody>\n",
       "    <tr>\n",
       "      <th>0</th>\n",
       "      <td>서울특별시 강남구 개포동</td>\n",
       "      <td>655-2</td>\n",
       "      <td>655</td>\n",
       "      <td>2</td>\n",
       "      <td>개포2차현대아파트(220)</td>\n",
       "      <td>77.75</td>\n",
       "      <td>201703</td>\n",
       "      <td>15</td>\n",
       "      <td>80000</td>\n",
       "      <td>7</td>\n",
       "      <td>1988</td>\n",
       "      <td>언주로 103</td>\n",
       "    </tr>\n",
       "    <tr>\n",
       "      <th>1</th>\n",
       "      <td>서울특별시 강남구 개포동</td>\n",
       "      <td>655-2</td>\n",
       "      <td>655</td>\n",
       "      <td>2</td>\n",
       "      <td>개포2차현대아파트(220)</td>\n",
       "      <td>77.75</td>\n",
       "      <td>201704</td>\n",
       "      <td>19</td>\n",
       "      <td>85000</td>\n",
       "      <td>2</td>\n",
       "      <td>1988</td>\n",
       "      <td>언주로 103</td>\n",
       "    </tr>\n",
       "    <tr>\n",
       "      <th>2</th>\n",
       "      <td>서울특별시 강남구 개포동</td>\n",
       "      <td>655-2</td>\n",
       "      <td>655</td>\n",
       "      <td>2</td>\n",
       "      <td>개포2차현대아파트(220)</td>\n",
       "      <td>77.75</td>\n",
       "      <td>201707</td>\n",
       "      <td>8</td>\n",
       "      <td>89900</td>\n",
       "      <td>1</td>\n",
       "      <td>1988</td>\n",
       "      <td>언주로 103</td>\n",
       "    </tr>\n",
       "  </tbody>\n",
       "</table>\n",
       "</div>"
      ],
      "text/plain": [
       "             시군구     번지   본번  부번             단지명  전용면적(㎡)    계약년월  계약일  \\\n",
       "0  서울특별시 강남구 개포동  655-2  655   2  개포2차현대아파트(220)    77.75  201703   15   \n",
       "1  서울특별시 강남구 개포동  655-2  655   2  개포2차현대아파트(220)    77.75  201704   19   \n",
       "2  서울특별시 강남구 개포동  655-2  655   2  개포2차현대아파트(220)    77.75  201707    8   \n",
       "\n",
       "   거래금액(만원)  층  건축년도      도로명  \n",
       "0     80000  7  1988  언주로 103  \n",
       "1     85000  2  1988  언주로 103  \n",
       "2     89900  1  1988  언주로 103  "
      ]
     },
     "execution_count": 5,
     "metadata": {},
     "output_type": "execute_result"
    }
   ],
   "source": [
    "seoul_2017[:3]"
   ]
  },
  {
   "cell_type": "code",
   "execution_count": 6,
   "metadata": {},
   "outputs": [
    {
     "name": "stdout",
     "output_type": "stream",
     "text": [
      "부산 2017년 (행, 열) : (37938, 12)\n",
      "부산 2018년 (행, 열) : (25846, 12)\n",
      "부산 2019년 (행, 열) : (35830, 12)\n",
      "서울 2017년 (행, 열) : (105076, 12)\n",
      "서울 2018년 (행, 열) : (81388, 12)\n",
      "서울 2019년 (행, 열) : (74850, 12)\n",
      "Index(['시군구', '번지', '본번', '부번', '단지명', '전용면적(㎡)', '계약년월', '계약일', '거래금액(만원)',\n",
      "       '층', '건축년도', '도로명'],\n",
      "      dtype='object')\n"
     ]
    }
   ],
   "source": [
    "print(\"부산 2017년 (행, 열) :\" , busan_2017.shape)\n",
    "print(\"부산 2018년 (행, 열) :\" , busan_2018.shape)\n",
    "print(\"부산 2019년 (행, 열) :\" , busan_2019.shape)\n",
    "print(\"서울 2017년 (행, 열) :\" , seoul_2017.shape)\n",
    "print(\"서울 2018년 (행, 열) :\" , seoul_2018.shape)\n",
    "print(\"서울 2019년 (행, 열) :\" , seoul_2019.shape)\n",
    "print(busan_2017.columns)"
   ]
  },
  {
   "cell_type": "code",
   "execution_count": 7,
   "metadata": {},
   "outputs": [
    {
     "name": "stdout",
     "output_type": "stream",
     "text": [
      "#### 부산지역 2017 ~ 2019 ####\n",
      "\n",
      "mean     26944.340187\n",
      "std      17143.249410\n",
      "min       1217.000000\n",
      "50%      23000.000000\n",
      "max     379840.000000\n",
      "Name: 거래금액(만원), dtype: float64\n",
      "\n",
      "mean     27114.270177\n",
      "std      17272.376753\n",
      "min       1200.000000\n",
      "50%      23200.000000\n",
      "max     414340.000000\n",
      "Name: 거래금액(만원), dtype: float64\n",
      "\n",
      "mean     31419.382947\n",
      "std      20323.239152\n",
      "min       1000.000000\n",
      "50%      26052.000000\n",
      "max     379840.000000\n",
      "Name: 거래금액(만원), dtype: float64\n"
     ]
    }
   ],
   "source": [
    "print(\"#### 부산지역 2017 ~ 2019 ####\"), print()\n",
    "print( busan_2017.loc[:, \"거래금액(만원)\"].describe().drop(index=['count','25%','75%']) ), print()\n",
    "print( busan_2018.loc[:, \"거래금액(만원)\"].describe().drop(index=['count','25%','75%']) ), print()\n",
    "print( busan_2019.loc[:, \"거래금액(만원)\"].describe().drop(index=['count','25%','75%']) )"
   ]
  },
  {
   "cell_type": "code",
   "execution_count": 8,
   "metadata": {},
   "outputs": [
    {
     "name": "stdout",
     "output_type": "stream",
     "text": [
      "#### 서울지역 2017 ~ 2019 ####\n",
      "\n",
      "mean     61912.789971\n",
      "std      42188.141137\n",
      "min       6100.000000\n",
      "50%      50700.000000\n",
      "max     780000.000000\n",
      "Name: 거래금액(만원), dtype: float64\n",
      "\n",
      "mean     65856.956357\n",
      "std      47587.763910\n",
      "min       6000.000000\n",
      "50%      53000.000000\n",
      "max     810000.000000\n",
      "Name: 거래금액(만원), dtype: float64\n",
      "\n",
      "mean     81981.791703\n",
      "std      57493.801207\n",
      "min       5400.000000\n",
      "50%      67000.000000\n",
      "max     840000.000000\n",
      "Name: 거래금액(만원), dtype: float64\n"
     ]
    }
   ],
   "source": [
    "print(\"#### 서울지역 2017 ~ 2019 ####\"), print()\n",
    "print( seoul_2017.loc[:, \"거래금액(만원)\"].describe().drop(index=['count','25%','75%']) ), print()\n",
    "print( seoul_2018.loc[:, \"거래금액(만원)\"].describe().drop(index=['count','25%','75%']) ), print()\n",
    "print( seoul_2019.loc[:, \"거래금액(만원)\"].describe().drop(index=['count','25%','75%']) )"
   ]
  },
  {
   "cell_type": "markdown",
   "metadata": {},
   "source": [
    "## 3. 1차 데이터 병합 및 통계적 분석"
   ]
  },
  {
   "cell_type": "markdown",
   "metadata": {},
   "source": [
    "### a. 데이터병합 1"
   ]
  },
  {
   "cell_type": "code",
   "execution_count": 9,
   "metadata": {},
   "outputs": [],
   "source": [
    "busan = pd.concat([busan_2017, busan_2018, busan_2019]) # 부산 병합\n",
    "seoul = pd.concat([seoul_2017, seoul_2018, seoul_2019]) # 서울 병합"
   ]
  },
  {
   "cell_type": "code",
   "execution_count": 10,
   "metadata": {},
   "outputs": [
    {
     "name": "stdout",
     "output_type": "stream",
     "text": [
      "index reset 완료\n"
     ]
    }
   ],
   "source": [
    "b_dict = { 'price' : busan['거래금액(만원)'],\n",
    "          'city' : busan['시군구'],\n",
    "          'se' : busan['단지명'],\n",
    "          'area' : busan['전용면적(㎡)'],\n",
    "          'mon' : busan['계약년월'],\n",
    "          'day' : busan['계약일'],\n",
    "          'floor' : busan['층'],\n",
    "          'build' : busan['건축년도'] }\n",
    "\n",
    "s_dict = { 'price' : seoul['거래금액(만원)'],\n",
    "          'city' : seoul['시군구'],\n",
    "          'se' : seoul['단지명'],\n",
    "          'area' : seoul['전용면적(㎡)'],\n",
    "          'mon' : seoul['계약년월'],\n",
    "          'day' : seoul['계약일'],\n",
    "          'floor' : seoul['층'],\n",
    "          'build' : seoul['건축년도'] }\n",
    "\n",
    "busan = pd.DataFrame(b_dict)\n",
    "seoul = pd.DataFrame(s_dict)\n",
    "\n",
    "busan.reset_index(drop=True, inplace=True)\n",
    "seoul.reset_index(drop=True, inplace=True)\n",
    "print(\"index reset 완료\")"
   ]
  },
  {
   "cell_type": "code",
   "execution_count": 11,
   "metadata": {},
   "outputs": [
    {
     "name": "stdout",
     "output_type": "stream",
     "text": [
      "(99614, 8)\n"
     ]
    },
    {
     "data": {
      "text/html": [
       "<div>\n",
       "<style scoped>\n",
       "    .dataframe tbody tr th:only-of-type {\n",
       "        vertical-align: middle;\n",
       "    }\n",
       "\n",
       "    .dataframe tbody tr th {\n",
       "        vertical-align: top;\n",
       "    }\n",
       "\n",
       "    .dataframe thead th {\n",
       "        text-align: right;\n",
       "    }\n",
       "</style>\n",
       "<table border=\"1\" class=\"dataframe\">\n",
       "  <thead>\n",
       "    <tr style=\"text-align: right;\">\n",
       "      <th></th>\n",
       "      <th>price</th>\n",
       "      <th>city</th>\n",
       "      <th>se</th>\n",
       "      <th>area</th>\n",
       "      <th>mon</th>\n",
       "      <th>day</th>\n",
       "      <th>floor</th>\n",
       "      <th>build</th>\n",
       "    </tr>\n",
       "  </thead>\n",
       "  <tbody>\n",
       "    <tr>\n",
       "      <th>99611</th>\n",
       "      <td>12000</td>\n",
       "      <td>부산광역시 해운대구 중동</td>\n",
       "      <td>현우산호맨션</td>\n",
       "      <td>44.22</td>\n",
       "      <td>201910</td>\n",
       "      <td>5</td>\n",
       "      <td>3</td>\n",
       "      <td>1987</td>\n",
       "    </tr>\n",
       "    <tr>\n",
       "      <th>99612</th>\n",
       "      <td>22700</td>\n",
       "      <td>부산광역시 해운대구 중동</td>\n",
       "      <td>협진태양</td>\n",
       "      <td>59.90</td>\n",
       "      <td>201911</td>\n",
       "      <td>9</td>\n",
       "      <td>13</td>\n",
       "      <td>1995</td>\n",
       "    </tr>\n",
       "    <tr>\n",
       "      <th>99613</th>\n",
       "      <td>17000</td>\n",
       "      <td>부산광역시 해운대구 중동</td>\n",
       "      <td>협진태양</td>\n",
       "      <td>59.90</td>\n",
       "      <td>201912</td>\n",
       "      <td>9</td>\n",
       "      <td>2</td>\n",
       "      <td>1995</td>\n",
       "    </tr>\n",
       "  </tbody>\n",
       "</table>\n",
       "</div>"
      ],
      "text/plain": [
       "       price           city      se   area     mon  day  floor  build\n",
       "99611  12000  부산광역시 해운대구 중동  현우산호맨션  44.22  201910    5      3   1987\n",
       "99612  22700  부산광역시 해운대구 중동    협진태양  59.90  201911    9     13   1995\n",
       "99613  17000  부산광역시 해운대구 중동    협진태양  59.90  201912    9      2   1995"
      ]
     },
     "execution_count": 11,
     "metadata": {},
     "output_type": "execute_result"
    }
   ],
   "source": [
    "print(busan.shape)\n",
    "busan.tail(3)"
   ]
  },
  {
   "cell_type": "code",
   "execution_count": 12,
   "metadata": {},
   "outputs": [
    {
     "name": "stdout",
     "output_type": "stream",
     "text": [
      "(261314, 8)\n"
     ]
    },
    {
     "data": {
      "text/html": [
       "<div>\n",
       "<style scoped>\n",
       "    .dataframe tbody tr th:only-of-type {\n",
       "        vertical-align: middle;\n",
       "    }\n",
       "\n",
       "    .dataframe tbody tr th {\n",
       "        vertical-align: top;\n",
       "    }\n",
       "\n",
       "    .dataframe thead th {\n",
       "        text-align: right;\n",
       "    }\n",
       "</style>\n",
       "<table border=\"1\" class=\"dataframe\">\n",
       "  <thead>\n",
       "    <tr style=\"text-align: right;\">\n",
       "      <th></th>\n",
       "      <th>price</th>\n",
       "      <th>city</th>\n",
       "      <th>se</th>\n",
       "      <th>area</th>\n",
       "      <th>mon</th>\n",
       "      <th>day</th>\n",
       "      <th>floor</th>\n",
       "      <th>build</th>\n",
       "    </tr>\n",
       "  </thead>\n",
       "  <tbody>\n",
       "    <tr>\n",
       "      <th>261311</th>\n",
       "      <td>25800</td>\n",
       "      <td>서울특별시 중랑구 중화동</td>\n",
       "      <td>한영(102)</td>\n",
       "      <td>57.18</td>\n",
       "      <td>201905</td>\n",
       "      <td>20</td>\n",
       "      <td>6</td>\n",
       "      <td>2003</td>\n",
       "    </tr>\n",
       "    <tr>\n",
       "      <th>261312</th>\n",
       "      <td>34500</td>\n",
       "      <td>서울특별시 중랑구 중화동</td>\n",
       "      <td>현대휴앤미</td>\n",
       "      <td>82.17</td>\n",
       "      <td>201901</td>\n",
       "      <td>31</td>\n",
       "      <td>7</td>\n",
       "      <td>2007</td>\n",
       "    </tr>\n",
       "    <tr>\n",
       "      <th>261313</th>\n",
       "      <td>32800</td>\n",
       "      <td>서울특별시 중랑구 중화동</td>\n",
       "      <td>현대휴앤미(102동)</td>\n",
       "      <td>64.48</td>\n",
       "      <td>201907</td>\n",
       "      <td>15</td>\n",
       "      <td>3</td>\n",
       "      <td>2007</td>\n",
       "    </tr>\n",
       "  </tbody>\n",
       "</table>\n",
       "</div>"
      ],
      "text/plain": [
       "        price           city           se   area     mon  day  floor  build\n",
       "261311  25800  서울특별시 중랑구 중화동      한영(102)  57.18  201905   20      6   2003\n",
       "261312  34500  서울특별시 중랑구 중화동        현대휴앤미  82.17  201901   31      7   2007\n",
       "261313  32800  서울특별시 중랑구 중화동  현대휴앤미(102동)  64.48  201907   15      3   2007"
      ]
     },
     "execution_count": 12,
     "metadata": {},
     "output_type": "execute_result"
    }
   ],
   "source": [
    "print(seoul.shape)\n",
    "seoul.tail(3)"
   ]
  },
  {
   "cell_type": "markdown",
   "metadata": {},
   "source": [
    "### b. 기초통계분석 1"
   ]
  },
  {
   "cell_type": "code",
   "execution_count": 13,
   "metadata": {},
   "outputs": [
    {
     "name": "stdout",
     "output_type": "stream",
     "text": [
      "<<< 부산 가격 >>>\n",
      "mean     28598.051439\n",
      "std      18503.178611\n",
      "min       1000.000000\n",
      "50%      24200.000000\n",
      "max     414340.000000\n",
      "Name: price, dtype: float64\n",
      "\n",
      "<<< 서울 가격 >>>\n",
      "mean     68889.731863\n",
      "std      49389.791658\n",
      "min       5400.000000\n",
      "50%      55000.000000\n",
      "max     840000.000000\n",
      "Name: price, dtype: float64\n"
     ]
    }
   ],
   "source": [
    "# 부산 서울 부동산가격 통계분석\n",
    "print(\"<<< 부산 가격 >>>\")\n",
    "print( busan.loc[:, 'price'].describe().drop(index=['count','25%','75%']) ), print()\n",
    "print(\"<<< 서울 가격 >>>\")\n",
    "print( seoul.loc[:, 'price'].describe().drop(index=['count','25%','75%']) )"
   ]
  },
  {
   "cell_type": "code",
   "execution_count": 14,
   "metadata": {},
   "outputs": [
    {
     "data": {
      "image/png": "[encoded data removed]",
      "text/plain": [
       "<Figure size 864x432 with 8 Axes>"
      ]
     },
     "metadata": {
      "needs_background": "light"
     },
     "output_type": "display_data"
    },
    {
     "name": "stdout",
     "output_type": "stream",
     "text": [
      "<<< 부산 면적 >>>\n",
      "min      9.260\n",
      "25%     59.460\n",
      "50%     73.560\n",
      "75%     84.965\n",
      "max    269.680\n",
      "Name: area, dtype: float64\n",
      "\n",
      "<<< 서울 면적 >>>\n",
      "min     10.020\n",
      "25%     59.790\n",
      "50%     84.320\n",
      "75%     84.975\n",
      "max    395.060\n",
      "Name: area, dtype: float64\n"
     ]
    }
   ],
   "source": [
    "plt.figure(figsize=(12,6))\n",
    "\n",
    "plt.subplot(241)\n",
    "plt.title(\"Busan\")\n",
    "plt.boxplot(busan['price'])\n",
    "plt.xlabel(\"price\")\n",
    "\n",
    "plt.subplot(242)\n",
    "plt.boxplot(busan['area'])\n",
    "plt.xlabel(\"area\")\n",
    "\n",
    "plt.subplot(243)\n",
    "plt.hist(busan['day'], rwidth=0.9)\n",
    "plt.xlabel(\"day\")\n",
    "\n",
    "plt.subplot(244)\n",
    "plt.hist(busan['floor'], rwidth=0.9)\n",
    "plt.xlabel(\"floor\")\n",
    "\n",
    "plt.subplot(245)\n",
    "plt.title(\"Seoul\")\n",
    "plt.boxplot(seoul['price'])\n",
    "plt.xlabel(\"price\")\n",
    "\n",
    "plt.subplot(246)\n",
    "plt.boxplot(seoul['area'])\n",
    "plt.xlabel(\"area\")\n",
    "\n",
    "plt.subplot(247)\n",
    "plt.hist(seoul['day'], rwidth=0.9)\n",
    "plt.xlabel(\"day\")\n",
    "\n",
    "plt.subplot(248)\n",
    "plt.hist(seoul['floor'], rwidth=0.9)\n",
    "plt.xlabel(\"floor\")\n",
    "\n",
    "plt.tight_layout()\n",
    "plt.show()\n",
    "\n",
    "print(\"<<< 부산 면적 >>>\")\n",
    "print( busan.loc[:, 'area'].describe().drop(index=['count','mean','std']) ), print()\n",
    "print(\"<<< 서울 면적 >>>\")\n",
    "print( seoul.loc[:, 'area'].describe().drop(index=['count','mean','std']) )"
   ]
  },
  {
   "cell_type": "code",
   "execution_count": 15,
   "metadata": {},
   "outputs": [
    {
     "data": {
      "image/png": "[encoded data removed]",
      "text/plain": [
       "<Figure size 864x432 with 2 Axes>"
      ]
     },
     "metadata": {
      "needs_background": "light"
     },
     "output_type": "display_data"
    },
    {
     "name": "stdout",
     "output_type": "stream",
     "text": [
      "왜도 :  2.801247120211165 : 오른쪽으로 긴 꼬리, (정규분포 = 3)\n",
      "첨도 :  22.07795800472629 : 양의 첨도(뾰족)\n"
     ]
    }
   ],
   "source": [
    "plt.figure(figsize=(12,6))\n",
    "\n",
    "plt.subplot(211)\n",
    "ax1 = sns.distplot(busan.loc[:,\"price\"], bins=50)\n",
    "ax1.set_title(\"Busan\")\n",
    "ax1.set_xlabel(\"Price\")\n",
    "ax1.set_ylabel(\"Density\")\n",
    "\n",
    "plt.subplot(212)\n",
    "ax2 = sns.distplot(seoul.loc[:,\"price\"], bins=50)\n",
    "ax2.set_title(\"Seoul\")\n",
    "ax2.set_xlabel(\"Price\")\n",
    "ax2.set_ylabel(\"Density\")\n",
    "\n",
    "plt.tight_layout()\n",
    "plt.show()\n",
    "\n",
    "#sns초기화\n",
    "sns.set()\n",
    "sns.reset_orig()\n",
    "\n",
    "print(\"왜도 : \",busan.loc[:,\"price\"].skew(), \": 오른쪽으로 긴 꼬리, (정규분포 = 3)\")\n",
    "print(\"첨도 : \",busan.loc[:,\"price\"].kurt(), \": 양의 첨도(뾰족)\")"
   ]
  },
  {
   "cell_type": "code",
   "execution_count": 16,
   "metadata": {},
   "outputs": [
    {
     "data": {
      "image/png": "[encoded data removed]",
      "text/plain": [
       "<Figure size 864x432 with 8 Axes>"
      ]
     },
     "metadata": {
      "needs_background": "light"
     },
     "output_type": "display_data"
    }
   ],
   "source": [
    "plt.figure(figsize=(12,6))\n",
    "\n",
    "plt.subplot(241)\n",
    "plt.title(\"Busan\")\n",
    "plt.scatter(busan.loc[:,\"area\"],busan.loc[:,\"price\"])\n",
    "plt.xlabel(\"area\")\n",
    "plt.ylabel(\"price\")\n",
    "\n",
    "plt.subplot(242)\n",
    "plt.scatter(busan.loc[:,\"day\"],busan.loc[:,\"price\"])\n",
    "plt.xlabel(\"day\")\n",
    "\n",
    "plt.subplot(243)\n",
    "plt.scatter(busan.loc[:,\"floor\"],busan.loc[:,\"price\"])\n",
    "plt.xlabel(\"floor\")\n",
    "\n",
    "plt.subplot(244)\n",
    "plt.scatter(busan.loc[:,\"build\"],busan.loc[:,\"price\"])\n",
    "plt.xlabel(\"build\")\n",
    "\n",
    "\n",
    "plt.subplot(245)\n",
    "plt.title(\"Seoul\")\n",
    "plt.scatter(seoul.loc[:,\"area\"],seoul.loc[:,\"price\"])\n",
    "plt.xlabel(\"area\")\n",
    "plt.ylabel(\"price\")\n",
    "\n",
    "plt.subplot(246)\n",
    "plt.scatter(seoul.loc[:,\"day\"],seoul.loc[:,\"price\"])\n",
    "plt.xlabel(\"day\")\n",
    "\n",
    "plt.subplot(247)\n",
    "plt.scatter(seoul.loc[:,\"floor\"],seoul.loc[:,\"price\"])\n",
    "plt.xlabel(\"floor\")\n",
    "\n",
    "plt.subplot(248)\n",
    "plt.scatter(seoul.loc[:,\"build\"],seoul.loc[:,\"price\"])\n",
    "plt.xlabel(\"build\")\n",
    "\n",
    "plt.tight_layout()\n",
    "plt.show()"
   ]
  },
  {
   "cell_type": "markdown",
   "metadata": {},
   "source": [
    "> '면적(area)'과 '층(floor)'과 '건축년도(build)' 따른 가격은 어느정도 상관성이 있어보임."
   ]
  },
  {
   "cell_type": "code",
   "execution_count": 17,
   "metadata": {},
   "outputs": [
    {
     "name": "stdout",
     "output_type": "stream",
     "text": [
      "x축을 각 변수, y축을 price로 한 상관분석(Pearson상관계수)\n",
      "\n",
      "<<< 부산 >>>\n",
      "면적 : 0.7238836893926126\n",
      "층 : 0.4134778753973388\n",
      "건축년도 : 0.2936299958621385\n",
      "계약년월 :  0.10645561332079517\n",
      "계약일 : 0.003465181826243062\n",
      "\n",
      "<<< 서울 >>>\n",
      "면적 : 0.606907849604142\n",
      "층 : 0.14916376091747535\n",
      "건축년도 : 0.0258741804560135\n",
      "계약년월 :  0.16415914409349924\n",
      "계약일 : 0.006251882844358934\n"
     ]
    }
   ],
   "source": [
    "# 상관성 분석\n",
    "print(\"x축을 각 변수, y축을 price로 한 상관분석(Pearson상관계수)\"), print()\n",
    "\n",
    "print(\"<<< 부산 >>>\")\n",
    "bc_a = busan['area'].corr(busan['price'])\n",
    "bc_f = busan['floor'].corr(busan['price'])\n",
    "bc_b = busan['build'].corr(busan['price'])\n",
    "bc_m = busan['mon'].corr(busan['price'])\n",
    "bc_d = busan['day'].corr(busan['price'])\n",
    "print(\"면적 :\", bc_a)\n",
    "print(\"층 :\",bc_f)\n",
    "print(\"건축년도 :\",bc_b)\n",
    "print(\"계약년월 : \", bc_m)\n",
    "print(\"계약일 :\", bc_d), print()\n",
    "\n",
    "print(\"<<< 서울 >>>\")\n",
    "sc_a = seoul['area'].corr(seoul['price'])\n",
    "sc_f = seoul['floor'].corr(seoul['price'])\n",
    "sc_b = seoul['build'].corr(seoul['price'])\n",
    "sc_m = seoul['mon'].corr(seoul['price'])\n",
    "sc_d = seoul['day'].corr(seoul['price'])\n",
    "print(\"면적 :\", sc_a)\n",
    "print(\"층 :\",sc_f)\n",
    "print(\"건축년도 :\",sc_b)\n",
    "print(\"계약년월 : \", sc_m)\n",
    "print(\"계약일 :\", sc_d)"
   ]
  },
  {
   "cell_type": "markdown",
   "metadata": {},
   "source": [
    " > y축 : 가격\n",
    " \n",
    " > 부산 :\n",
    "  <br> 매우 강한 양의 상관관계 (0.7 < r < 1) : 면적(area)\n",
    "  <br> 강한 양의 상관관계 (0.3 < r < 0.7) : 층(floor)\n",
    "  <br> 약한 양의 상관관계 (0.1 < r < 0.3) : 건축년도(build), 계약년월(mon)\n",
    " \n",
    " > 서울 : \n",
    "  <br> 강한 양의 상관관계 (0.3 < r < 0.7) : 면적(area)\n",
    "  <br> 약한 양의 상관관계 (0.1 < r < 0.3) : 층(floor), 계약년월(mon)"
   ]
  },
  {
   "cell_type": "markdown",
   "metadata": {},
   "source": [
    "### c. 도시 단위 그룹분석 1"
   ]
  },
  {
   "cell_type": "code",
   "execution_count": 18,
   "metadata": {},
   "outputs": [
    {
     "name": "stdout",
     "output_type": "stream",
     "text": [
      "99614 99614 99614\n"
     ]
    },
    {
     "data": {
      "text/html": [
       "<div>\n",
       "<style scoped>\n",
       "    .dataframe tbody tr th:only-of-type {\n",
       "        vertical-align: middle;\n",
       "    }\n",
       "\n",
       "    .dataframe tbody tr th {\n",
       "        vertical-align: top;\n",
       "    }\n",
       "\n",
       "    .dataframe thead th {\n",
       "        text-align: right;\n",
       "    }\n",
       "</style>\n",
       "<table border=\"1\" class=\"dataframe\">\n",
       "  <thead>\n",
       "    <tr style=\"text-align: right;\">\n",
       "      <th></th>\n",
       "      <th>price</th>\n",
       "      <th>city</th>\n",
       "      <th>se</th>\n",
       "      <th>area</th>\n",
       "      <th>mon</th>\n",
       "      <th>day</th>\n",
       "      <th>floor</th>\n",
       "      <th>build</th>\n",
       "      <th>si</th>\n",
       "      <th>gu</th>\n",
       "      <th>dong</th>\n",
       "    </tr>\n",
       "  </thead>\n",
       "  <tbody>\n",
       "    <tr>\n",
       "      <th>99611</th>\n",
       "      <td>12000</td>\n",
       "      <td>부산광역시 해운대구 중동</td>\n",
       "      <td>현우산호맨션</td>\n",
       "      <td>44.22</td>\n",
       "      <td>201910</td>\n",
       "      <td>5</td>\n",
       "      <td>3</td>\n",
       "      <td>1987</td>\n",
       "      <td>부산광역시</td>\n",
       "      <td>부산광역시 해운대구</td>\n",
       "      <td>부산광역시 해운대구 중동</td>\n",
       "    </tr>\n",
       "    <tr>\n",
       "      <th>99612</th>\n",
       "      <td>22700</td>\n",
       "      <td>부산광역시 해운대구 중동</td>\n",
       "      <td>협진태양</td>\n",
       "      <td>59.90</td>\n",
       "      <td>201911</td>\n",
       "      <td>9</td>\n",
       "      <td>13</td>\n",
       "      <td>1995</td>\n",
       "      <td>부산광역시</td>\n",
       "      <td>부산광역시 해운대구</td>\n",
       "      <td>부산광역시 해운대구 중동</td>\n",
       "    </tr>\n",
       "    <tr>\n",
       "      <th>99613</th>\n",
       "      <td>17000</td>\n",
       "      <td>부산광역시 해운대구 중동</td>\n",
       "      <td>협진태양</td>\n",
       "      <td>59.90</td>\n",
       "      <td>201912</td>\n",
       "      <td>9</td>\n",
       "      <td>2</td>\n",
       "      <td>1995</td>\n",
       "      <td>부산광역시</td>\n",
       "      <td>부산광역시 해운대구</td>\n",
       "      <td>부산광역시 해운대구 중동</td>\n",
       "    </tr>\n",
       "  </tbody>\n",
       "</table>\n",
       "</div>"
      ],
      "text/plain": [
       "       price           city      se   area     mon  day  floor  build     si  \\\n",
       "99611  12000  부산광역시 해운대구 중동  현우산호맨션  44.22  201910    5      3   1987  부산광역시   \n",
       "99612  22700  부산광역시 해운대구 중동    협진태양  59.90  201911    9     13   1995  부산광역시   \n",
       "99613  17000  부산광역시 해운대구 중동    협진태양  59.90  201912    9      2   1995  부산광역시   \n",
       "\n",
       "               gu           dong  \n",
       "99611  부산광역시 해운대구  부산광역시 해운대구 중동  \n",
       "99612  부산광역시 해운대구  부산광역시 해운대구 중동  \n",
       "99613  부산광역시 해운대구  부산광역시 해운대구 중동  "
      ]
     },
     "execution_count": 18,
     "metadata": {},
     "output_type": "execute_result"
    }
   ],
   "source": [
    "# 부산 : 구 단위\n",
    "b_si = []\n",
    "b_gu = []\n",
    "b_dong = []\n",
    "for i in range(len(busan)):\n",
    "    b = busan.loc[:,'city'][i].split()\n",
    "    b_si.append(b[0])\n",
    "    b_gu.append(b[0] + \" \" + b[1])\n",
    "    b_dong.append(b[0] + \" \" + b[1] + \" \" + b[2])\n",
    "print(len(b_si), len(b_gu), len(b_dong))\n",
    "\n",
    "busan[\"si\"] = b_si\n",
    "busan[\"gu\"] = b_gu\n",
    "busan[\"dong\"] = b_dong\n",
    "\n",
    "busan.tail(3)"
   ]
  },
  {
   "cell_type": "code",
   "execution_count": 19,
   "metadata": {},
   "outputs": [
    {
     "name": "stdout",
     "output_type": "stream",
     "text": [
      "null값 확인\n"
     ]
    },
    {
     "data": {
      "text/plain": [
       "price    0\n",
       "city     0\n",
       "se       0\n",
       "area     0\n",
       "mon      0\n",
       "day      0\n",
       "floor    0\n",
       "build    0\n",
       "si       0\n",
       "gu       0\n",
       "dong     0\n",
       "dtype: int64"
      ]
     },
     "execution_count": 19,
     "metadata": {},
     "output_type": "execute_result"
    }
   ],
   "source": [
    "print(\"null값 확인\")\n",
    "np.sum(pd.isnull(busan))"
   ]
  },
  {
   "cell_type": "code",
   "execution_count": 20,
   "metadata": {},
   "outputs": [
    {
     "name": "stdout",
     "output_type": "stream",
     "text": [
      "<<< 그룹 별 개수, 평균, 중앙값, 표준편차 >>>\n",
      "부산 구 개수: 16\n"
     ]
    },
    {
     "data": {
      "text/html": [
       "<div>\n",
       "<style scoped>\n",
       "    .dataframe tbody tr th:only-of-type {\n",
       "        vertical-align: middle;\n",
       "    }\n",
       "\n",
       "    .dataframe tbody tr th {\n",
       "        vertical-align: top;\n",
       "    }\n",
       "\n",
       "    .dataframe thead th {\n",
       "        text-align: right;\n",
       "    }\n",
       "</style>\n",
       "<table border=\"1\" class=\"dataframe\">\n",
       "  <thead>\n",
       "    <tr style=\"text-align: right;\">\n",
       "      <th></th>\n",
       "      <th>gu</th>\n",
       "      <th>size</th>\n",
       "      <th>mean</th>\n",
       "      <th>median</th>\n",
       "      <th>std</th>\n",
       "    </tr>\n",
       "  </thead>\n",
       "  <tbody>\n",
       "    <tr>\n",
       "      <th>0</th>\n",
       "      <td>부산광역시 강서구</td>\n",
       "      <td>2942</td>\n",
       "      <td>31324.489803</td>\n",
       "      <td>30700</td>\n",
       "      <td>12310.006392</td>\n",
       "    </tr>\n",
       "    <tr>\n",
       "      <th>1</th>\n",
       "      <td>부산광역시 금정구</td>\n",
       "      <td>6729</td>\n",
       "      <td>30561.976074</td>\n",
       "      <td>26000</td>\n",
       "      <td>15754.968852</td>\n",
       "    </tr>\n",
       "    <tr>\n",
       "      <th>2</th>\n",
       "      <td>부산광역시 기장군</td>\n",
       "      <td>4370</td>\n",
       "      <td>22700.990389</td>\n",
       "      <td>22300</td>\n",
       "      <td>7525.218142</td>\n",
       "    </tr>\n",
       "    <tr>\n",
       "      <th>3</th>\n",
       "      <td>부산광역시 남구</td>\n",
       "      <td>8507</td>\n",
       "      <td>32717.110145</td>\n",
       "      <td>27724</td>\n",
       "      <td>20243.993616</td>\n",
       "    </tr>\n",
       "    <tr>\n",
       "      <th>4</th>\n",
       "      <td>부산광역시 동구</td>\n",
       "      <td>1332</td>\n",
       "      <td>19664.107357</td>\n",
       "      <td>20000</td>\n",
       "      <td>11935.588212</td>\n",
       "    </tr>\n",
       "    <tr>\n",
       "      <th>5</th>\n",
       "      <td>부산광역시 동래구</td>\n",
       "      <td>7543</td>\n",
       "      <td>32700.714172</td>\n",
       "      <td>29000</td>\n",
       "      <td>16278.478037</td>\n",
       "    </tr>\n",
       "    <tr>\n",
       "      <th>6</th>\n",
       "      <td>부산광역시 부산진구</td>\n",
       "      <td>11887</td>\n",
       "      <td>23323.957432</td>\n",
       "      <td>22000</td>\n",
       "      <td>11636.551162</td>\n",
       "    </tr>\n",
       "    <tr>\n",
       "      <th>7</th>\n",
       "      <td>부산광역시 북구</td>\n",
       "      <td>9662</td>\n",
       "      <td>24296.244980</td>\n",
       "      <td>21800</td>\n",
       "      <td>12552.966991</td>\n",
       "    </tr>\n",
       "    <tr>\n",
       "      <th>8</th>\n",
       "      <td>부산광역시 사상구</td>\n",
       "      <td>6045</td>\n",
       "      <td>18766.489661</td>\n",
       "      <td>17750</td>\n",
       "      <td>7384.933205</td>\n",
       "    </tr>\n",
       "    <tr>\n",
       "      <th>9</th>\n",
       "      <td>부산광역시 사하구</td>\n",
       "      <td>10152</td>\n",
       "      <td>19219.860126</td>\n",
       "      <td>18100</td>\n",
       "      <td>8445.423454</td>\n",
       "    </tr>\n",
       "    <tr>\n",
       "      <th>10</th>\n",
       "      <td>부산광역시 서구</td>\n",
       "      <td>2238</td>\n",
       "      <td>25839.418231</td>\n",
       "      <td>24900</td>\n",
       "      <td>12141.362606</td>\n",
       "    </tr>\n",
       "    <tr>\n",
       "      <th>11</th>\n",
       "      <td>부산광역시 수영구</td>\n",
       "      <td>5325</td>\n",
       "      <td>40931.843568</td>\n",
       "      <td>37500</td>\n",
       "      <td>21083.136311</td>\n",
       "    </tr>\n",
       "    <tr>\n",
       "      <th>12</th>\n",
       "      <td>부산광역시 연제구</td>\n",
       "      <td>5738</td>\n",
       "      <td>32347.872081</td>\n",
       "      <td>30450</td>\n",
       "      <td>14405.850549</td>\n",
       "    </tr>\n",
       "    <tr>\n",
       "      <th>13</th>\n",
       "      <td>부산광역시 영도구</td>\n",
       "      <td>2912</td>\n",
       "      <td>16954.773352</td>\n",
       "      <td>14925</td>\n",
       "      <td>8914.918926</td>\n",
       "    </tr>\n",
       "    <tr>\n",
       "      <th>14</th>\n",
       "      <td>부산광역시 중구</td>\n",
       "      <td>593</td>\n",
       "      <td>17142.180438</td>\n",
       "      <td>17000</td>\n",
       "      <td>8503.056245</td>\n",
       "    </tr>\n",
       "    <tr>\n",
       "      <th>15</th>\n",
       "      <td>부산광역시 해운대구</td>\n",
       "      <td>13639</td>\n",
       "      <td>40990.557152</td>\n",
       "      <td>33300</td>\n",
       "      <td>29266.846004</td>\n",
       "    </tr>\n",
       "  </tbody>\n",
       "</table>\n",
       "</div>"
      ],
      "text/plain": [
       "            gu   size          mean  median           std\n",
       "0    부산광역시 강서구   2942  31324.489803   30700  12310.006392\n",
       "1    부산광역시 금정구   6729  30561.976074   26000  15754.968852\n",
       "2    부산광역시 기장군   4370  22700.990389   22300   7525.218142\n",
       "3     부산광역시 남구   8507  32717.110145   27724  20243.993616\n",
       "4     부산광역시 동구   1332  19664.107357   20000  11935.588212\n",
       "5    부산광역시 동래구   7543  32700.714172   29000  16278.478037\n",
       "6   부산광역시 부산진구  11887  23323.957432   22000  11636.551162\n",
       "7     부산광역시 북구   9662  24296.244980   21800  12552.966991\n",
       "8    부산광역시 사상구   6045  18766.489661   17750   7384.933205\n",
       "9    부산광역시 사하구  10152  19219.860126   18100   8445.423454\n",
       "10    부산광역시 서구   2238  25839.418231   24900  12141.362606\n",
       "11   부산광역시 수영구   5325  40931.843568   37500  21083.136311\n",
       "12   부산광역시 연제구   5738  32347.872081   30450  14405.850549\n",
       "13   부산광역시 영도구   2912  16954.773352   14925   8914.918926\n",
       "14    부산광역시 중구    593  17142.180438   17000   8503.056245\n",
       "15  부산광역시 해운대구  13639  40990.557152   33300  29266.846004"
      ]
     },
     "execution_count": 20,
     "metadata": {},
     "output_type": "execute_result"
    }
   ],
   "source": [
    "print(\"<<< 그룹 별 개수, 평균, 중앙값, 표준편차 >>>\")\n",
    "b_pivot = busan['price'].groupby(busan['gu']).agg(['size','mean', 'median', 'std'])\n",
    "b_pivot = b_pivot.reset_index()\n",
    "print(\"부산 구 개수:\", len(b_pivot))\n",
    "b_pivot"
   ]
  },
  {
   "cell_type": "code",
   "execution_count": 21,
   "metadata": {},
   "outputs": [
    {
     "data": {
      "image/png": "[encoded data removed]",
      "text/plain": [
       "<Figure size 864x216 with 3 Axes>"
      ]
     },
     "metadata": {
      "needs_background": "light"
     },
     "output_type": "display_data"
    }
   ],
   "source": [
    "plt.figure(figsize=(12,3))\n",
    "index = np.arange(len(b_pivot['gu']))\n",
    "\n",
    "plt.subplot(131)\n",
    "plt.bar(index, b_pivot['size'])\n",
    "plt.xlabel(\"size\")\n",
    "plt.ylabel(\"price\")\n",
    "\n",
    "plt.subplot(132)\n",
    "plt.bar(index, b_pivot['mean'])\n",
    "plt.xlabel(\"mean\")\n",
    "plt.ylabel(\"price\")\n",
    "\n",
    "plt.subplot(133)\n",
    "plt.bar(index, b_pivot['median'])\n",
    "plt.xlabel(\"median\")\n",
    "plt.ylabel(\"price\")\n",
    "\n",
    "plt.tight_layout()\n",
    "plt.show()"
   ]
  },
  {
   "cell_type": "code",
   "execution_count": 22,
   "metadata": {},
   "outputs": [
    {
     "name": "stdout",
     "output_type": "stream",
     "text": [
      "261314 261314 261314\n"
     ]
    },
    {
     "data": {
      "text/html": [
       "<div>\n",
       "<style scoped>\n",
       "    .dataframe tbody tr th:only-of-type {\n",
       "        vertical-align: middle;\n",
       "    }\n",
       "\n",
       "    .dataframe tbody tr th {\n",
       "        vertical-align: top;\n",
       "    }\n",
       "\n",
       "    .dataframe thead th {\n",
       "        text-align: right;\n",
       "    }\n",
       "</style>\n",
       "<table border=\"1\" class=\"dataframe\">\n",
       "  <thead>\n",
       "    <tr style=\"text-align: right;\">\n",
       "      <th></th>\n",
       "      <th>price</th>\n",
       "      <th>city</th>\n",
       "      <th>se</th>\n",
       "      <th>area</th>\n",
       "      <th>mon</th>\n",
       "      <th>day</th>\n",
       "      <th>floor</th>\n",
       "      <th>build</th>\n",
       "      <th>si</th>\n",
       "      <th>gu</th>\n",
       "      <th>dong</th>\n",
       "    </tr>\n",
       "  </thead>\n",
       "  <tbody>\n",
       "    <tr>\n",
       "      <th>261311</th>\n",
       "      <td>25800</td>\n",
       "      <td>서울특별시 중랑구 중화동</td>\n",
       "      <td>한영(102)</td>\n",
       "      <td>57.18</td>\n",
       "      <td>201905</td>\n",
       "      <td>20</td>\n",
       "      <td>6</td>\n",
       "      <td>2003</td>\n",
       "      <td>서울특별시</td>\n",
       "      <td>서울특별시 중랑구</td>\n",
       "      <td>서울특별시 중랑구 중화동</td>\n",
       "    </tr>\n",
       "    <tr>\n",
       "      <th>261312</th>\n",
       "      <td>34500</td>\n",
       "      <td>서울특별시 중랑구 중화동</td>\n",
       "      <td>현대휴앤미</td>\n",
       "      <td>82.17</td>\n",
       "      <td>201901</td>\n",
       "      <td>31</td>\n",
       "      <td>7</td>\n",
       "      <td>2007</td>\n",
       "      <td>서울특별시</td>\n",
       "      <td>서울특별시 중랑구</td>\n",
       "      <td>서울특별시 중랑구 중화동</td>\n",
       "    </tr>\n",
       "    <tr>\n",
       "      <th>261313</th>\n",
       "      <td>32800</td>\n",
       "      <td>서울특별시 중랑구 중화동</td>\n",
       "      <td>현대휴앤미(102동)</td>\n",
       "      <td>64.48</td>\n",
       "      <td>201907</td>\n",
       "      <td>15</td>\n",
       "      <td>3</td>\n",
       "      <td>2007</td>\n",
       "      <td>서울특별시</td>\n",
       "      <td>서울특별시 중랑구</td>\n",
       "      <td>서울특별시 중랑구 중화동</td>\n",
       "    </tr>\n",
       "  </tbody>\n",
       "</table>\n",
       "</div>"
      ],
      "text/plain": [
       "        price           city           se   area     mon  day  floor  build  \\\n",
       "261311  25800  서울특별시 중랑구 중화동      한영(102)  57.18  201905   20      6   2003   \n",
       "261312  34500  서울특별시 중랑구 중화동        현대휴앤미  82.17  201901   31      7   2007   \n",
       "261313  32800  서울특별시 중랑구 중화동  현대휴앤미(102동)  64.48  201907   15      3   2007   \n",
       "\n",
       "           si         gu           dong  \n",
       "261311  서울특별시  서울특별시 중랑구  서울특별시 중랑구 중화동  \n",
       "261312  서울특별시  서울특별시 중랑구  서울특별시 중랑구 중화동  \n",
       "261313  서울특별시  서울특별시 중랑구  서울특별시 중랑구 중화동  "
      ]
     },
     "execution_count": 22,
     "metadata": {},
     "output_type": "execute_result"
    }
   ],
   "source": [
    "# 서울 : 구 단위\n",
    "\n",
    "s_si = []\n",
    "s_gu = []\n",
    "s_dong = []\n",
    "for i in range(len(seoul)):\n",
    "    s = seoul.loc[:,'city'][i].split()\n",
    "    s_si.append(s[0])\n",
    "    s_gu.append(s[0] + \" \" + s[1])\n",
    "    s_dong.append(s[0] + \" \" + s[1] + \" \" + s[2])\n",
    "print(len(s_si), len(s_gu), len(s_dong))\n",
    "\n",
    "seoul[\"si\"] = s_si\n",
    "seoul[\"gu\"] = s_gu\n",
    "seoul[\"dong\"] = s_dong\n",
    "\n",
    "seoul.tail(3)"
   ]
  },
  {
   "cell_type": "code",
   "execution_count": 23,
   "metadata": {},
   "outputs": [
    {
     "name": "stdout",
     "output_type": "stream",
     "text": [
      "null값 확인\n"
     ]
    },
    {
     "data": {
      "text/plain": [
       "price    0\n",
       "city     0\n",
       "se       0\n",
       "area     0\n",
       "mon      0\n",
       "day      0\n",
       "floor    0\n",
       "build    0\n",
       "si       0\n",
       "gu       0\n",
       "dong     0\n",
       "dtype: int64"
      ]
     },
     "execution_count": 23,
     "metadata": {},
     "output_type": "execute_result"
    }
   ],
   "source": [
    "print(\"null값 확인\")\n",
    "np.sum(pd.isnull(seoul))"
   ]
  },
  {
   "cell_type": "code",
   "execution_count": 24,
   "metadata": {},
   "outputs": [
    {
     "name": "stdout",
     "output_type": "stream",
     "text": [
      "<<< 그룹 별 개수, 평균, 중앙값, 표준편차 >>>\n",
      "서울 구 개수: 25\n"
     ]
    },
    {
     "data": {
      "text/html": [
       "<div>\n",
       "<style scoped>\n",
       "    .dataframe tbody tr th:only-of-type {\n",
       "        vertical-align: middle;\n",
       "    }\n",
       "\n",
       "    .dataframe tbody tr th {\n",
       "        vertical-align: top;\n",
       "    }\n",
       "\n",
       "    .dataframe thead th {\n",
       "        text-align: right;\n",
       "    }\n",
       "</style>\n",
       "<table border=\"1\" class=\"dataframe\">\n",
       "  <thead>\n",
       "    <tr style=\"text-align: right;\">\n",
       "      <th></th>\n",
       "      <th>gu</th>\n",
       "      <th>size</th>\n",
       "      <th>mean</th>\n",
       "      <th>median</th>\n",
       "      <th>std</th>\n",
       "    </tr>\n",
       "  </thead>\n",
       "  <tbody>\n",
       "    <tr>\n",
       "      <th>0</th>\n",
       "      <td>서울특별시 강남구</td>\n",
       "      <td>15399</td>\n",
       "      <td>149020.456913</td>\n",
       "      <td>138000</td>\n",
       "      <td>73618.587151</td>\n",
       "    </tr>\n",
       "    <tr>\n",
       "      <th>1</th>\n",
       "      <td>서울특별시 강동구</td>\n",
       "      <td>14053</td>\n",
       "      <td>64545.615740</td>\n",
       "      <td>60000</td>\n",
       "      <td>25658.114798</td>\n",
       "    </tr>\n",
       "    <tr>\n",
       "      <th>2</th>\n",
       "      <td>서울특별시 강북구</td>\n",
       "      <td>5182</td>\n",
       "      <td>41823.647433</td>\n",
       "      <td>41000</td>\n",
       "      <td>13117.441508</td>\n",
       "    </tr>\n",
       "    <tr>\n",
       "      <th>3</th>\n",
       "      <td>서울특별시 강서구</td>\n",
       "      <td>14852</td>\n",
       "      <td>52401.159305</td>\n",
       "      <td>49800</td>\n",
       "      <td>21559.074645</td>\n",
       "    </tr>\n",
       "    <tr>\n",
       "      <th>4</th>\n",
       "      <td>서울특별시 관악구</td>\n",
       "      <td>8510</td>\n",
       "      <td>46358.351469</td>\n",
       "      <td>46800</td>\n",
       "      <td>14958.214791</td>\n",
       "    </tr>\n",
       "    <tr>\n",
       "      <th>5</th>\n",
       "      <td>서울특별시 광진구</td>\n",
       "      <td>5554</td>\n",
       "      <td>78199.331293</td>\n",
       "      <td>73000</td>\n",
       "      <td>32127.068860</td>\n",
       "    </tr>\n",
       "    <tr>\n",
       "      <th>6</th>\n",
       "      <td>서울특별시 구로구</td>\n",
       "      <td>13010</td>\n",
       "      <td>43824.275865</td>\n",
       "      <td>41900</td>\n",
       "      <td>18583.567048</td>\n",
       "    </tr>\n",
       "    <tr>\n",
       "      <th>7</th>\n",
       "      <td>서울특별시 금천구</td>\n",
       "      <td>4573</td>\n",
       "      <td>38179.570741</td>\n",
       "      <td>36000</td>\n",
       "      <td>13637.314760</td>\n",
       "    </tr>\n",
       "    <tr>\n",
       "      <th>8</th>\n",
       "      <td>서울특별시 노원구</td>\n",
       "      <td>25911</td>\n",
       "      <td>38599.998186</td>\n",
       "      <td>36000</td>\n",
       "      <td>14159.701431</td>\n",
       "    </tr>\n",
       "    <tr>\n",
       "      <th>9</th>\n",
       "      <td>서울특별시 도봉구</td>\n",
       "      <td>11033</td>\n",
       "      <td>35863.965739</td>\n",
       "      <td>33300</td>\n",
       "      <td>13867.126338</td>\n",
       "    </tr>\n",
       "    <tr>\n",
       "      <th>10</th>\n",
       "      <td>서울특별시 동대문구</td>\n",
       "      <td>9675</td>\n",
       "      <td>50772.717003</td>\n",
       "      <td>49100</td>\n",
       "      <td>19251.617320</td>\n",
       "    </tr>\n",
       "    <tr>\n",
       "      <th>11</th>\n",
       "      <td>서울특별시 동작구</td>\n",
       "      <td>9466</td>\n",
       "      <td>71094.852842</td>\n",
       "      <td>69000</td>\n",
       "      <td>23695.803748</td>\n",
       "    </tr>\n",
       "    <tr>\n",
       "      <th>12</th>\n",
       "      <td>서울특별시 마포구</td>\n",
       "      <td>9879</td>\n",
       "      <td>77021.672133</td>\n",
       "      <td>72500</td>\n",
       "      <td>30465.095630</td>\n",
       "    </tr>\n",
       "    <tr>\n",
       "      <th>13</th>\n",
       "      <td>서울특별시 서대문구</td>\n",
       "      <td>8247</td>\n",
       "      <td>57920.568934</td>\n",
       "      <td>54000</td>\n",
       "      <td>23775.193466</td>\n",
       "    </tr>\n",
       "    <tr>\n",
       "      <th>14</th>\n",
       "      <td>서울특별시 서초구</td>\n",
       "      <td>11481</td>\n",
       "      <td>140113.304764</td>\n",
       "      <td>127000</td>\n",
       "      <td>71217.405075</td>\n",
       "    </tr>\n",
       "    <tr>\n",
       "      <th>15</th>\n",
       "      <td>서울특별시 성동구</td>\n",
       "      <td>10584</td>\n",
       "      <td>80259.998961</td>\n",
       "      <td>75000</td>\n",
       "      <td>36231.585462</td>\n",
       "    </tr>\n",
       "    <tr>\n",
       "      <th>16</th>\n",
       "      <td>서울특별시 성북구</td>\n",
       "      <td>13630</td>\n",
       "      <td>50271.970653</td>\n",
       "      <td>49000</td>\n",
       "      <td>15031.887455</td>\n",
       "    </tr>\n",
       "    <tr>\n",
       "      <th>17</th>\n",
       "      <td>서울특별시 송파구</td>\n",
       "      <td>18545</td>\n",
       "      <td>99552.585926</td>\n",
       "      <td>88000</td>\n",
       "      <td>46881.163781</td>\n",
       "    </tr>\n",
       "    <tr>\n",
       "      <th>18</th>\n",
       "      <td>서울특별시 양천구</td>\n",
       "      <td>12602</td>\n",
       "      <td>70710.975401</td>\n",
       "      <td>62850</td>\n",
       "      <td>38986.785853</td>\n",
       "    </tr>\n",
       "    <tr>\n",
       "      <th>19</th>\n",
       "      <td>서울특별시 영등포구</td>\n",
       "      <td>10910</td>\n",
       "      <td>65394.211824</td>\n",
       "      <td>58000</td>\n",
       "      <td>35027.543588</td>\n",
       "    </tr>\n",
       "    <tr>\n",
       "      <th>20</th>\n",
       "      <td>서울특별시 용산구</td>\n",
       "      <td>5682</td>\n",
       "      <td>127029.020767</td>\n",
       "      <td>98000</td>\n",
       "      <td>100637.221182</td>\n",
       "    </tr>\n",
       "    <tr>\n",
       "      <th>21</th>\n",
       "      <td>서울특별시 은평구</td>\n",
       "      <td>8538</td>\n",
       "      <td>47868.234013</td>\n",
       "      <td>46500</td>\n",
       "      <td>17714.807363</td>\n",
       "    </tr>\n",
       "    <tr>\n",
       "      <th>22</th>\n",
       "      <td>서울특별시 종로구</td>\n",
       "      <td>2152</td>\n",
       "      <td>64843.023234</td>\n",
       "      <td>59800</td>\n",
       "      <td>38592.816465</td>\n",
       "    </tr>\n",
       "    <tr>\n",
       "      <th>23</th>\n",
       "      <td>서울특별시 중구</td>\n",
       "      <td>3457</td>\n",
       "      <td>69344.630026</td>\n",
       "      <td>68000</td>\n",
       "      <td>30058.609427</td>\n",
       "    </tr>\n",
       "    <tr>\n",
       "      <th>24</th>\n",
       "      <td>서울특별시 중랑구</td>\n",
       "      <td>8389</td>\n",
       "      <td>39219.099297</td>\n",
       "      <td>37800</td>\n",
       "      <td>13797.860505</td>\n",
       "    </tr>\n",
       "  </tbody>\n",
       "</table>\n",
       "</div>"
      ],
      "text/plain": [
       "            gu   size           mean  median            std\n",
       "0    서울특별시 강남구  15399  149020.456913  138000   73618.587151\n",
       "1    서울특별시 강동구  14053   64545.615740   60000   25658.114798\n",
       "2    서울특별시 강북구   5182   41823.647433   41000   13117.441508\n",
       "3    서울특별시 강서구  14852   52401.159305   49800   21559.074645\n",
       "4    서울특별시 관악구   8510   46358.351469   46800   14958.214791\n",
       "5    서울특별시 광진구   5554   78199.331293   73000   32127.068860\n",
       "6    서울특별시 구로구  13010   43824.275865   41900   18583.567048\n",
       "7    서울특별시 금천구   4573   38179.570741   36000   13637.314760\n",
       "8    서울특별시 노원구  25911   38599.998186   36000   14159.701431\n",
       "9    서울특별시 도봉구  11033   35863.965739   33300   13867.126338\n",
       "10  서울특별시 동대문구   9675   50772.717003   49100   19251.617320\n",
       "11   서울특별시 동작구   9466   71094.852842   69000   23695.803748\n",
       "12   서울특별시 마포구   9879   77021.672133   72500   30465.095630\n",
       "13  서울특별시 서대문구   8247   57920.568934   54000   23775.193466\n",
       "14   서울특별시 서초구  11481  140113.304764  127000   71217.405075\n",
       "15   서울특별시 성동구  10584   80259.998961   75000   36231.585462\n",
       "16   서울특별시 성북구  13630   50271.970653   49000   15031.887455\n",
       "17   서울특별시 송파구  18545   99552.585926   88000   46881.163781\n",
       "18   서울특별시 양천구  12602   70710.975401   62850   38986.785853\n",
       "19  서울특별시 영등포구  10910   65394.211824   58000   35027.543588\n",
       "20   서울특별시 용산구   5682  127029.020767   98000  100637.221182\n",
       "21   서울특별시 은평구   8538   47868.234013   46500   17714.807363\n",
       "22   서울특별시 종로구   2152   64843.023234   59800   38592.816465\n",
       "23    서울특별시 중구   3457   69344.630026   68000   30058.609427\n",
       "24   서울특별시 중랑구   8389   39219.099297   37800   13797.860505"
      ]
     },
     "execution_count": 24,
     "metadata": {},
     "output_type": "execute_result"
    }
   ],
   "source": [
    "print(\"<<< 그룹 별 개수, 평균, 중앙값, 표준편차 >>>\")\n",
    "s_pivot = seoul['price'].groupby(seoul['gu']).agg(['size','mean', 'median', 'std'])\n",
    "s_pivot = s_pivot.reset_index()\n",
    "print(\"서울 구 개수:\", len(s_pivot))\n",
    "s_pivot"
   ]
  },
  {
   "cell_type": "code",
   "execution_count": 25,
   "metadata": {},
   "outputs": [
    {
     "data": {
      "image/png": "[encoded data removed]",
      "text/plain": [
       "<Figure size 864x216 with 3 Axes>"
      ]
     },
     "metadata": {
      "needs_background": "light"
     },
     "output_type": "display_data"
    }
   ],
   "source": [
    "plt.figure(figsize=(12,3))\n",
    "index = np.arange(len(s_pivot['gu']))\n",
    "\n",
    "plt.subplot(131)\n",
    "plt.bar(index, s_pivot['size'])\n",
    "plt.xlabel(\"size\")\n",
    "plt.ylabel(\"price\")\n",
    "\n",
    "plt.subplot(132)\n",
    "plt.bar(index, s_pivot['mean'])\n",
    "plt.xlabel(\"mean\")\n",
    "plt.ylabel(\"price\")\n",
    "\n",
    "plt.subplot(133)\n",
    "plt.bar(index, s_pivot['median'])\n",
    "plt.xlabel(\"median\")\n",
    "plt.ylabel(\"price\")\n",
    "\n",
    "plt.tight_layout()\n",
    "plt.show()"
   ]
  },
  {
   "cell_type": "markdown",
   "metadata": {},
   "source": [
    "## 4. 2차 데이터 병합 및 통계적 분석"
   ]
  },
  {
   "cell_type": "markdown",
   "metadata": {},
   "source": [
    "### a. 데이터병합 2"
   ]
  },
  {
   "cell_type": "code",
   "execution_count": 26,
   "metadata": {},
   "outputs": [
    {
     "name": "stdout",
     "output_type": "stream",
     "text": [
      "(360928, 11)\n",
      "Index(['price', 'city', 'se', 'area', 'mon', 'day', 'floor', 'build', 'si',\n",
      "       'gu', 'dong'],\n",
      "      dtype='object')\n"
     ]
    },
    {
     "data": {
      "text/html": [
       "<div>\n",
       "<style scoped>\n",
       "    .dataframe tbody tr th:only-of-type {\n",
       "        vertical-align: middle;\n",
       "    }\n",
       "\n",
       "    .dataframe tbody tr th {\n",
       "        vertical-align: top;\n",
       "    }\n",
       "\n",
       "    .dataframe thead th {\n",
       "        text-align: right;\n",
       "    }\n",
       "</style>\n",
       "<table border=\"1\" class=\"dataframe\">\n",
       "  <thead>\n",
       "    <tr style=\"text-align: right;\">\n",
       "      <th></th>\n",
       "      <th>price</th>\n",
       "      <th>city</th>\n",
       "      <th>se</th>\n",
       "      <th>area</th>\n",
       "      <th>mon</th>\n",
       "      <th>day</th>\n",
       "      <th>floor</th>\n",
       "      <th>build</th>\n",
       "      <th>si</th>\n",
       "      <th>gu</th>\n",
       "      <th>dong</th>\n",
       "    </tr>\n",
       "  </thead>\n",
       "  <tbody>\n",
       "    <tr>\n",
       "      <th>360925</th>\n",
       "      <td>25800</td>\n",
       "      <td>서울특별시 중랑구 중화동</td>\n",
       "      <td>한영(102)</td>\n",
       "      <td>57.18</td>\n",
       "      <td>201905</td>\n",
       "      <td>20</td>\n",
       "      <td>6</td>\n",
       "      <td>2003</td>\n",
       "      <td>서울특별시</td>\n",
       "      <td>서울특별시 중랑구</td>\n",
       "      <td>서울특별시 중랑구 중화동</td>\n",
       "    </tr>\n",
       "    <tr>\n",
       "      <th>360926</th>\n",
       "      <td>34500</td>\n",
       "      <td>서울특별시 중랑구 중화동</td>\n",
       "      <td>현대휴앤미</td>\n",
       "      <td>82.17</td>\n",
       "      <td>201901</td>\n",
       "      <td>31</td>\n",
       "      <td>7</td>\n",
       "      <td>2007</td>\n",
       "      <td>서울특별시</td>\n",
       "      <td>서울특별시 중랑구</td>\n",
       "      <td>서울특별시 중랑구 중화동</td>\n",
       "    </tr>\n",
       "    <tr>\n",
       "      <th>360927</th>\n",
       "      <td>32800</td>\n",
       "      <td>서울특별시 중랑구 중화동</td>\n",
       "      <td>현대휴앤미(102동)</td>\n",
       "      <td>64.48</td>\n",
       "      <td>201907</td>\n",
       "      <td>15</td>\n",
       "      <td>3</td>\n",
       "      <td>2007</td>\n",
       "      <td>서울특별시</td>\n",
       "      <td>서울특별시 중랑구</td>\n",
       "      <td>서울특별시 중랑구 중화동</td>\n",
       "    </tr>\n",
       "  </tbody>\n",
       "</table>\n",
       "</div>"
      ],
      "text/plain": [
       "        price           city           se   area     mon  day  floor  build  \\\n",
       "360925  25800  서울특별시 중랑구 중화동      한영(102)  57.18  201905   20      6   2003   \n",
       "360926  34500  서울특별시 중랑구 중화동        현대휴앤미  82.17  201901   31      7   2007   \n",
       "360927  32800  서울특별시 중랑구 중화동  현대휴앤미(102동)  64.48  201907   15      3   2007   \n",
       "\n",
       "           si         gu           dong  \n",
       "360925  서울특별시  서울특별시 중랑구  서울특별시 중랑구 중화동  \n",
       "360926  서울특별시  서울특별시 중랑구  서울특별시 중랑구 중화동  \n",
       "360927  서울특별시  서울특별시 중랑구  서울특별시 중랑구 중화동  "
      ]
     },
     "execution_count": 26,
     "metadata": {},
     "output_type": "execute_result"
    }
   ],
   "source": [
    "data = pd.concat([busan, seoul])\n",
    "data.reset_index(drop=True, inplace=True)\n",
    "print(data.shape)\n",
    "print(data.columns)\n",
    "data.tail(3)"
   ]
  },
  {
   "cell_type": "markdown",
   "metadata": {},
   "source": [
    "### b. 기초통계분석 2"
   ]
  },
  {
   "cell_type": "code",
   "execution_count": 27,
   "metadata": {},
   "outputs": [
    {
     "name": "stdout",
     "output_type": "stream",
     "text": [
      "mean     57769.465622\n",
      "std      46743.861265\n",
      "min       1000.000000\n",
      "50%      45800.000000\n",
      "max     840000.000000\n",
      "Name: price, dtype: float64\n"
     ]
    }
   ],
   "source": [
    "print( data.loc[:, \"price\"].describe().drop(index=['count','25%','75%']) )"
   ]
  },
  {
   "cell_type": "code",
   "execution_count": 28,
   "metadata": {},
   "outputs": [
    {
     "data": {
      "image/png": "[encoded data removed]",
      "text/plain": [
       "<Figure size 864x216 with 1 Axes>"
      ]
     },
     "metadata": {
      "needs_background": "light"
     },
     "output_type": "display_data"
    },
    {
     "name": "stdout",
     "output_type": "stream",
     "text": [
      "왜도 :  2.96880722232735 : 오른쪽으로 긴 꼬리, (정규분포 = 3)\n",
      "첨도 :  16.488512394459185 : 양의 첨도(뾰족)\n"
     ]
    }
   ],
   "source": [
    "plt.figure(figsize=(12,3))\n",
    "ax = sns.distplot(data.loc[:,\"price\"], bins=50)\n",
    "ax.set_title(\"Data\")\n",
    "ax.set_xlabel(\"Price\")\n",
    "ax.set_ylabel(\"Density\")\n",
    "plt.show()\n",
    "\n",
    "#sns초기화\n",
    "sns.set()\n",
    "sns.reset_orig()\n",
    "\n",
    "print(\"왜도 : \",data.loc[:,\"price\"].skew(), \": 오른쪽으로 긴 꼬리, (정규분포 = 3)\")\n",
    "print(\"첨도 : \",data.loc[:,\"price\"].kurt(), \": 양의 첨도(뾰족)\")"
   ]
  },
  {
   "cell_type": "code",
   "execution_count": 29,
   "metadata": {},
   "outputs": [
    {
     "data": {
      "image/png": "[encoded data removed]",
      "text/plain": [
       "<Figure size 864x432 with 4 Axes>"
      ]
     },
     "metadata": {
      "needs_background": "light"
     },
     "output_type": "display_data"
    }
   ],
   "source": [
    "plt.figure(figsize=(12,6))\n",
    "\n",
    "plt.subplot(221)\n",
    "plt.title(\"Data\")\n",
    "plt.scatter(data.loc[:,\"area\"],data.loc[:,\"price\"])\n",
    "plt.xlabel(\"area\")\n",
    "\n",
    "plt.subplot(222)\n",
    "plt.scatter(data.loc[:,\"day\"],data.loc[:,\"price\"])\n",
    "plt.xlabel(\"day\")\n",
    "\n",
    "plt.subplot(223)\n",
    "plt.scatter(data.loc[:,\"floor\"],data.loc[:,\"price\"])\n",
    "plt.xlabel(\"floor\")\n",
    "\n",
    "plt.subplot(224)\n",
    "plt.scatter(data.loc[:,\"build\"],data.loc[:,\"price\"])\n",
    "plt.xlabel(\"build\")\n",
    "\n",
    "plt.tight_layout()\n",
    "plt.show()"
   ]
  },
  {
   "cell_type": "code",
   "execution_count": 30,
   "metadata": {},
   "outputs": [
    {
     "name": "stdout",
     "output_type": "stream",
     "text": [
      "x축을 각 변수, y축을 price로 한 상관성 분석(상관계수)\n",
      "\n",
      "<<< 전체 >>>\n",
      "면적 : 0.5688659149893275\n",
      "층 : 0.11907016062512611\n",
      "건축년도 : 0.028747520236846923\n",
      "계약년월 :  0.11625187016285851\n"
     ]
    }
   ],
   "source": [
    "# 상관성 분석\n",
    "print(\"x축을 각 변수, y축을 price로 한 상관성 분석(상관계수)\"), print()\n",
    "\n",
    "print(\"<<< 전체 >>>\")\n",
    "dc_a = data['area'].corr(data['price'])\n",
    "dc_f = data['floor'].corr(data['price'])\n",
    "dc_b = data['build'].corr(data['price'])\n",
    "dc_m = data['mon'].corr(data['price'])\n",
    "print(\"면적 :\", dc_a)\n",
    "print(\"층 :\", dc_f)\n",
    "print(\"건축년도 :\", dc_b)\n",
    "print(\"계약년월 : \", dc_m)"
   ]
  },
  {
   "cell_type": "markdown",
   "metadata": {},
   "source": [
    " > y축 : 가격\n",
    " \n",
    " > 전체 : \n",
    "  <br> 강한 양의 상관관계 (0.3 < r < 0.7) : 면적(area), \n",
    "  <br> 약한 양의 상관관계 (0.1 < r < 0.3) : 층(floor), 계약년월(mon)"
   ]
  },
  {
   "cell_type": "markdown",
   "metadata": {},
   "source": [
    "## 5. 주식, 환율 데이터 분석"
   ]
  },
  {
   "cell_type": "code",
   "execution_count": 31,
   "metadata": {},
   "outputs": [],
   "source": [
    "exchange = pd.read_csv(\"../input/exchange_data.csv\", encoding=\"cp949\")\n",
    "stock = pd.read_csv(\"../input/stock_data.csv\", encoding=\"cp949\")"
   ]
  },
  {
   "cell_type": "code",
   "execution_count": 32,
   "metadata": {},
   "outputs": [
    {
     "name": "stdout",
     "output_type": "stream",
     "text": [
      "(736, 9)\n"
     ]
    },
    {
     "data": {
      "text/html": [
       "<div>\n",
       "<style scoped>\n",
       "    .dataframe tbody tr th:only-of-type {\n",
       "        vertical-align: middle;\n",
       "    }\n",
       "\n",
       "    .dataframe tbody tr th {\n",
       "        vertical-align: top;\n",
       "    }\n",
       "\n",
       "    .dataframe thead th {\n",
       "        text-align: right;\n",
       "    }\n",
       "</style>\n",
       "<table border=\"1\" class=\"dataframe\">\n",
       "  <thead>\n",
       "    <tr style=\"text-align: right;\">\n",
       "      <th></th>\n",
       "      <th>날짜</th>\n",
       "      <th>매매기준율</th>\n",
       "      <th>전일대비</th>\n",
       "      <th>현찰살때</th>\n",
       "      <th>현찰팔때</th>\n",
       "      <th>송금보낼때</th>\n",
       "      <th>송금받을때</th>\n",
       "      <th>T/C살때</th>\n",
       "      <th>외화수표팔때</th>\n",
       "    </tr>\n",
       "  </thead>\n",
       "  <tbody>\n",
       "    <tr>\n",
       "      <th>733</th>\n",
       "      <td>2019.12.27</td>\n",
       "      <td>1160.5</td>\n",
       "      <td>1.5</td>\n",
       "      <td>1180.80</td>\n",
       "      <td>1140.20</td>\n",
       "      <td>1171.8</td>\n",
       "      <td>1149.2</td>\n",
       "      <td>1174.42</td>\n",
       "      <td>1148.03</td>\n",
       "    </tr>\n",
       "    <tr>\n",
       "      <th>734</th>\n",
       "      <td>2019.12.30</td>\n",
       "      <td>1156.5</td>\n",
       "      <td>4.0</td>\n",
       "      <td>1176.73</td>\n",
       "      <td>1136.27</td>\n",
       "      <td>1167.8</td>\n",
       "      <td>1145.2</td>\n",
       "      <td>1170.37</td>\n",
       "      <td>1144.03</td>\n",
       "    </tr>\n",
       "    <tr>\n",
       "      <th>735</th>\n",
       "      <td>2019.12.31</td>\n",
       "      <td>1156.0</td>\n",
       "      <td>0.5</td>\n",
       "      <td>1176.23</td>\n",
       "      <td>1135.77</td>\n",
       "      <td>1167.3</td>\n",
       "      <td>1144.7</td>\n",
       "      <td>1169.87</td>\n",
       "      <td>1143.54</td>\n",
       "    </tr>\n",
       "  </tbody>\n",
       "</table>\n",
       "</div>"
      ],
      "text/plain": [
       "             날짜   매매기준율  전일대비     현찰살때     현찰팔때   송금보낼때   송금받을때    T/C살때  \\\n",
       "733  2019.12.27  1160.5   1.5  1180.80  1140.20  1171.8  1149.2  1174.42   \n",
       "734  2019.12.30  1156.5   4.0  1176.73  1136.27  1167.8  1145.2  1170.37   \n",
       "735  2019.12.31  1156.0   0.5  1176.23  1135.77  1167.3  1144.7  1169.87   \n",
       "\n",
       "      외화수표팔때  \n",
       "733  1148.03  \n",
       "734  1144.03  \n",
       "735  1143.54  "
      ]
     },
     "execution_count": 32,
     "metadata": {},
     "output_type": "execute_result"
    }
   ],
   "source": [
    "print(exchange.shape)\n",
    "exchange.tail(3)"
   ]
  },
  {
   "cell_type": "code",
   "execution_count": 33,
   "metadata": {},
   "outputs": [
    {
     "name": "stdout",
     "output_type": "stream",
     "text": [
      "(733, 6)\n"
     ]
    },
    {
     "data": {
      "text/html": [
       "<div>\n",
       "<style scoped>\n",
       "    .dataframe tbody tr th:only-of-type {\n",
       "        vertical-align: middle;\n",
       "    }\n",
       "\n",
       "    .dataframe tbody tr th {\n",
       "        vertical-align: top;\n",
       "    }\n",
       "\n",
       "    .dataframe thead th {\n",
       "        text-align: right;\n",
       "    }\n",
       "</style>\n",
       "<table border=\"1\" class=\"dataframe\">\n",
       "  <thead>\n",
       "    <tr style=\"text-align: right;\">\n",
       "      <th></th>\n",
       "      <th>날짜</th>\n",
       "      <th>체결가</th>\n",
       "      <th>전일비</th>\n",
       "      <th>등락률</th>\n",
       "      <th>거래량(천주)</th>\n",
       "      <th>거래대금(백만)</th>\n",
       "    </tr>\n",
       "  </thead>\n",
       "  <tbody>\n",
       "    <tr>\n",
       "      <th>730</th>\n",
       "      <td>2019.12.26</td>\n",
       "      <td>2197.93</td>\n",
       "      <td>7.85</td>\n",
       "      <td>0.36%</td>\n",
       "      <td>571309</td>\n",
       "      <td>4795109</td>\n",
       "    </tr>\n",
       "    <tr>\n",
       "      <th>731</th>\n",
       "      <td>2019.12.27</td>\n",
       "      <td>2204.21</td>\n",
       "      <td>6.28</td>\n",
       "      <td>0.29%</td>\n",
       "      <td>490167</td>\n",
       "      <td>5429665</td>\n",
       "    </tr>\n",
       "    <tr>\n",
       "      <th>732</th>\n",
       "      <td>2019.12.30</td>\n",
       "      <td>2197.67</td>\n",
       "      <td>6.54</td>\n",
       "      <td>-0.30%</td>\n",
       "      <td>416403</td>\n",
       "      <td>4113597</td>\n",
       "    </tr>\n",
       "  </tbody>\n",
       "</table>\n",
       "</div>"
      ],
      "text/plain": [
       "             날짜      체결가   전일비     등락률  거래량(천주)  거래대금(백만)\n",
       "730  2019.12.26  2197.93  7.85   0.36%   571309   4795109\n",
       "731  2019.12.27  2204.21  6.28   0.29%   490167   5429665\n",
       "732  2019.12.30  2197.67  6.54  -0.30%   416403   4113597"
      ]
     },
     "execution_count": 33,
     "metadata": {},
     "output_type": "execute_result"
    }
   ],
   "source": [
    "print(stock.shape)\n",
    "stock.tail(3)"
   ]
  },
  {
   "cell_type": "code",
   "execution_count": 34,
   "metadata": {},
   "outputs": [
    {
     "name": "stdout",
     "output_type": "stream",
     "text": [
      "736 736 736\n",
      "733 733 733\n",
      "\n",
      "날짜          0\n",
      "매매기준율       0\n",
      "전일대비        0\n",
      "현찰살때        0\n",
      "현찰팔때        0\n",
      "송금보낼때       0\n",
      "송금받을때       0\n",
      "T/C살때       0\n",
      "외화수표팔때      0\n",
      "yyyy        0\n",
      "mon         0\n",
      "yyyymmdd    0\n",
      "dtype: int64\n",
      "\n",
      "날짜          0\n",
      "체결가         0\n",
      "전일비         0\n",
      "등락률         0\n",
      "거래량(천주)     0\n",
      "거래대금(백만)    0\n",
      "yyyy        0\n",
      "mon         0\n",
      "yyyymmdd    0\n",
      "dtype: int64\n"
     ]
    }
   ],
   "source": [
    "e_y = []\n",
    "e_m = []\n",
    "e_d = []\n",
    "for i in range(len(exchange)):\n",
    "    e = exchange.loc[:,'날짜'][i].split(\".\")\n",
    "    e_y.append(e[0])\n",
    "    e_m.append(e[0] + e[1])\n",
    "    e_d.append(e[0] + e[1] + e[2])\n",
    "print(len(e_y), len(e_m), len(e_d))\n",
    "\n",
    "exchange[\"yyyy\"] = e_y\n",
    "exchange[\"mon\"] = e_m\n",
    "exchange[\"yyyymmdd\"] = e_d\n",
    "\n",
    "exchange[:3]\n",
    "\n",
    "s_y = []\n",
    "s_m = []\n",
    "s_d = []\n",
    "for i in range(len(stock)):\n",
    "    s = str(stock.loc[:,'날짜'][i]).split(\".\")\n",
    "    s_y.append(e[0])\n",
    "    s_m.append(e[0] + e[1])\n",
    "    s_d.append(e[0] + e[1] + e[2])\n",
    "print(len(s_y), len(s_m), len(s_d))\n",
    "\n",
    "stock[\"yyyy\"] = s_y\n",
    "stock[\"mon\"] = s_m\n",
    "stock[\"yyyymmdd\"] = s_d\n",
    "\n",
    "print()\n",
    "print( np.sum(pd.isnull(exchange)) ), print()\n",
    "print( np.sum(pd.isnull(stock)) )"
   ]
  },
  {
   "cell_type": "code",
   "execution_count": 35,
   "metadata": {},
   "outputs": [],
   "source": [
    "e_pivot = exchange['매매기준율'].groupby(exchange['mon']).agg(['size','mean', 'median', 'std'])\n",
    "e_pivot = e_pivot.reset_index()\n",
    "\n",
    "s_pivot = stock['체결가'].groupby(exchange['mon']).agg(['size','mean', 'median', 'std'])\n",
    "s_pivot = s_pivot.reset_index()"
   ]
  },
  {
   "cell_type": "code",
   "execution_count": 36,
   "metadata": {},
   "outputs": [
    {
     "data": {
      "text/html": [
       "<div>\n",
       "<style scoped>\n",
       "    .dataframe tbody tr th:only-of-type {\n",
       "        vertical-align: middle;\n",
       "    }\n",
       "\n",
       "    .dataframe tbody tr th {\n",
       "        vertical-align: top;\n",
       "    }\n",
       "\n",
       "    .dataframe thead th {\n",
       "        text-align: right;\n",
       "    }\n",
       "</style>\n",
       "<table border=\"1\" class=\"dataframe\">\n",
       "  <thead>\n",
       "    <tr style=\"text-align: right;\">\n",
       "      <th></th>\n",
       "      <th>mon</th>\n",
       "      <th>size</th>\n",
       "      <th>mean</th>\n",
       "      <th>median</th>\n",
       "      <th>std</th>\n",
       "    </tr>\n",
       "  </thead>\n",
       "  <tbody>\n",
       "    <tr>\n",
       "      <th>33</th>\n",
       "      <td>201910</td>\n",
       "      <td>21</td>\n",
       "      <td>1182.995238</td>\n",
       "      <td>1181.0</td>\n",
       "      <td>12.439473</td>\n",
       "    </tr>\n",
       "    <tr>\n",
       "      <th>34</th>\n",
       "      <td>201911</td>\n",
       "      <td>21</td>\n",
       "      <td>1168.476190</td>\n",
       "      <td>1167.0</td>\n",
       "      <td>7.955307</td>\n",
       "    </tr>\n",
       "    <tr>\n",
       "      <th>35</th>\n",
       "      <td>201912</td>\n",
       "      <td>21</td>\n",
       "      <td>1175.509524</td>\n",
       "      <td>1172.0</td>\n",
       "      <td>14.070604</td>\n",
       "    </tr>\n",
       "  </tbody>\n",
       "</table>\n",
       "</div>"
      ],
      "text/plain": [
       "       mon  size         mean  median        std\n",
       "33  201910    21  1182.995238  1181.0  12.439473\n",
       "34  201911    21  1168.476190  1167.0   7.955307\n",
       "35  201912    21  1175.509524  1172.0  14.070604"
      ]
     },
     "execution_count": 36,
     "metadata": {},
     "output_type": "execute_result"
    }
   ],
   "source": [
    "e_pivot.tail(3)"
   ]
  },
  {
   "cell_type": "code",
   "execution_count": 37,
   "metadata": {},
   "outputs": [
    {
     "data": {
      "text/html": [
       "<div>\n",
       "<style scoped>\n",
       "    .dataframe tbody tr th:only-of-type {\n",
       "        vertical-align: middle;\n",
       "    }\n",
       "\n",
       "    .dataframe tbody tr th {\n",
       "        vertical-align: top;\n",
       "    }\n",
       "\n",
       "    .dataframe thead th {\n",
       "        text-align: right;\n",
       "    }\n",
       "</style>\n",
       "<table border=\"1\" class=\"dataframe\">\n",
       "  <thead>\n",
       "    <tr style=\"text-align: right;\">\n",
       "      <th></th>\n",
       "      <th>mon</th>\n",
       "      <th>size</th>\n",
       "      <th>mean</th>\n",
       "      <th>median</th>\n",
       "      <th>std</th>\n",
       "    </tr>\n",
       "  </thead>\n",
       "  <tbody>\n",
       "    <tr>\n",
       "      <th>33</th>\n",
       "      <td>201910</td>\n",
       "      <td>21</td>\n",
       "      <td>2071.752857</td>\n",
       "      <td>2080.270</td>\n",
       "      <td>27.332943</td>\n",
       "    </tr>\n",
       "    <tr>\n",
       "      <th>34</th>\n",
       "      <td>201911</td>\n",
       "      <td>21</td>\n",
       "      <td>2126.201905</td>\n",
       "      <td>2125.320</td>\n",
       "      <td>23.054068</td>\n",
       "    </tr>\n",
       "    <tr>\n",
       "      <th>35</th>\n",
       "      <td>201912</td>\n",
       "      <td>18</td>\n",
       "      <td>2153.571111</td>\n",
       "      <td>2180.165</td>\n",
       "      <td>53.955864</td>\n",
       "    </tr>\n",
       "  </tbody>\n",
       "</table>\n",
       "</div>"
      ],
      "text/plain": [
       "       mon  size         mean    median        std\n",
       "33  201910    21  2071.752857  2080.270  27.332943\n",
       "34  201911    21  2126.201905  2125.320  23.054068\n",
       "35  201912    18  2153.571111  2180.165  53.955864"
      ]
     },
     "execution_count": 37,
     "metadata": {},
     "output_type": "execute_result"
    }
   ],
   "source": [
    "s_pivot.tail(3)"
   ]
  },
  {
   "cell_type": "code",
   "execution_count": 38,
   "metadata": {},
   "outputs": [
    {
     "data": {
      "image/png": "[encoded data removed]",
      "text/plain": [
       "<Figure size 864x216 with 3 Axes>"
      ]
     },
     "metadata": {
      "needs_background": "light"
     },
     "output_type": "display_data"
    }
   ],
   "source": [
    "plt.figure(figsize=(12,3))\n",
    "index = np.arange(len(e_pivot['mon']))\n",
    "\n",
    "plt.subplot(131)\n",
    "plt.plot(index, e_pivot['mean'])\n",
    "plt.title(\"exchange\")\n",
    "plt.xlabel(\"mean\")\n",
    "plt.ylabel(\"e_price\")\n",
    "\n",
    "plt.subplot(132)\n",
    "plt.plot(index, e_pivot['median'])\n",
    "plt.xlabel(\"median\")\n",
    "\n",
    "plt.subplot(133)\n",
    "plt.plot(index, e_pivot['std'])\n",
    "plt.xlabel(\"std\")\n",
    "\n",
    "plt.tight_layout()\n",
    "plt.show()"
   ]
  },
  {
   "cell_type": "code",
   "execution_count": 39,
   "metadata": {},
   "outputs": [
    {
     "data": {
      "image/png": "[encoded data removed]",
      "text/plain": [
       "<Figure size 864x216 with 3 Axes>"
      ]
     },
     "metadata": {
      "needs_background": "light"
     },
     "output_type": "display_data"
    }
   ],
   "source": [
    "plt.figure(figsize=(12,3))\n",
    "index = np.arange(len(s_pivot['mon']))\n",
    "\n",
    "plt.subplot(131)\n",
    "plt.plot(index, s_pivot['mean'])\n",
    "plt.title(\"stock\")\n",
    "plt.xlabel(\"mean\")\n",
    "plt.ylabel(\"e_price\")\n",
    "\n",
    "plt.subplot(132)\n",
    "plt.plot(index, s_pivot['median'])\n",
    "plt.xlabel(\"median\")\n",
    "\n",
    "plt.subplot(133)\n",
    "plt.plot(index, s_pivot['std'])\n",
    "plt.xlabel(\"std\")\n",
    "\n",
    "plt.tight_layout()\n",
    "plt.show()"
   ]
  },
  {
   "cell_type": "code",
   "execution_count": 40,
   "metadata": {},
   "outputs": [],
   "source": [
    "del e_pivot[\"size\"]\n",
    "del e_pivot[\"median\"]\n",
    "del s_pivot[\"size\"]\n",
    "del s_pivot[\"median\"]\n",
    "\n",
    "e_pivot.columns = [\"mon\", \"e_mean\", \"e_std\"]\n",
    "s_pivot.columns = [\"mon\", \"s_mean\", \"s_std\"]\n",
    "\n",
    "e_pivot = e_pivot.apply(pd.to_numeric, errors='coerce') #.fillna(0)\n",
    "s_pivot = s_pivot.apply(pd.to_numeric, errors='coerce') #.fillna(0)"
   ]
  },
  {
   "cell_type": "code",
   "execution_count": 41,
   "metadata": {},
   "outputs": [
    {
     "data": {
      "text/html": [
       "<div>\n",
       "<style scoped>\n",
       "    .dataframe tbody tr th:only-of-type {\n",
       "        vertical-align: middle;\n",
       "    }\n",
       "\n",
       "    .dataframe tbody tr th {\n",
       "        vertical-align: top;\n",
       "    }\n",
       "\n",
       "    .dataframe thead th {\n",
       "        text-align: right;\n",
       "    }\n",
       "</style>\n",
       "<table border=\"1\" class=\"dataframe\">\n",
       "  <thead>\n",
       "    <tr style=\"text-align: right;\">\n",
       "      <th></th>\n",
       "      <th>mon</th>\n",
       "      <th>s_mean</th>\n",
       "      <th>s_std</th>\n",
       "    </tr>\n",
       "  </thead>\n",
       "  <tbody>\n",
       "    <tr>\n",
       "      <th>33</th>\n",
       "      <td>201910</td>\n",
       "      <td>2071.752857</td>\n",
       "      <td>27.332943</td>\n",
       "    </tr>\n",
       "    <tr>\n",
       "      <th>34</th>\n",
       "      <td>201911</td>\n",
       "      <td>2126.201905</td>\n",
       "      <td>23.054068</td>\n",
       "    </tr>\n",
       "    <tr>\n",
       "      <th>35</th>\n",
       "      <td>201912</td>\n",
       "      <td>2153.571111</td>\n",
       "      <td>53.955864</td>\n",
       "    </tr>\n",
       "  </tbody>\n",
       "</table>\n",
       "</div>"
      ],
      "text/plain": [
       "       mon       s_mean      s_std\n",
       "33  201910  2071.752857  27.332943\n",
       "34  201911  2126.201905  23.054068\n",
       "35  201912  2153.571111  53.955864"
      ]
     },
     "execution_count": 41,
     "metadata": {},
     "output_type": "execute_result"
    }
   ],
   "source": [
    "s_pivot.tail(3)"
   ]
  },
  {
   "cell_type": "code",
   "execution_count": 42,
   "metadata": {},
   "outputs": [
    {
     "data": {
      "text/html": [
       "<div>\n",
       "<style scoped>\n",
       "    .dataframe tbody tr th:only-of-type {\n",
       "        vertical-align: middle;\n",
       "    }\n",
       "\n",
       "    .dataframe tbody tr th {\n",
       "        vertical-align: top;\n",
       "    }\n",
       "\n",
       "    .dataframe thead th {\n",
       "        text-align: right;\n",
       "    }\n",
       "</style>\n",
       "<table border=\"1\" class=\"dataframe\">\n",
       "  <thead>\n",
       "    <tr style=\"text-align: right;\">\n",
       "      <th></th>\n",
       "      <th>price</th>\n",
       "      <th>city</th>\n",
       "      <th>se</th>\n",
       "      <th>area</th>\n",
       "      <th>mon</th>\n",
       "      <th>day</th>\n",
       "      <th>floor</th>\n",
       "      <th>build</th>\n",
       "      <th>si</th>\n",
       "      <th>gu</th>\n",
       "      <th>dong</th>\n",
       "      <th>e_mean</th>\n",
       "      <th>e_std</th>\n",
       "      <th>s_mean</th>\n",
       "      <th>s_std</th>\n",
       "    </tr>\n",
       "  </thead>\n",
       "  <tbody>\n",
       "    <tr>\n",
       "      <th>360927</th>\n",
       "      <td>32800</td>\n",
       "      <td>서울특별시 중랑구 중화동</td>\n",
       "      <td>현대휴앤미(102동)</td>\n",
       "      <td>64.48</td>\n",
       "      <td>201907</td>\n",
       "      <td>15</td>\n",
       "      <td>3</td>\n",
       "      <td>2007</td>\n",
       "      <td>서울특별시</td>\n",
       "      <td>서울특별시 중랑구</td>\n",
       "      <td>서울특별시 중랑구 중화동</td>\n",
       "      <td>1177.5</td>\n",
       "      <td>5.726732</td>\n",
       "      <td>2069.206522</td>\n",
       "      <td>30.358757</td>\n",
       "    </tr>\n",
       "  </tbody>\n",
       "</table>\n",
       "</div>"
      ],
      "text/plain": [
       "        price           city           se   area     mon  day  floor  build  \\\n",
       "360927  32800  서울특별시 중랑구 중화동  현대휴앤미(102동)  64.48  201907   15      3   2007   \n",
       "\n",
       "           si         gu           dong  e_mean     e_std       s_mean  \\\n",
       "360927  서울특별시  서울특별시 중랑구  서울특별시 중랑구 중화동  1177.5  5.726732  2069.206522   \n",
       "\n",
       "            s_std  \n",
       "360927  30.358757  "
      ]
     },
     "execution_count": 42,
     "metadata": {},
     "output_type": "execute_result"
    }
   ],
   "source": [
    "data0 = pd.merge(data, e_pivot, on=\"mon\", how=\"left\") \n",
    "data = pd.merge(data0, s_pivot, on=\"mon\", how=\"left\")\n",
    "data.tail(1)"
   ]
  },
  {
   "cell_type": "code",
   "execution_count": 43,
   "metadata": {},
   "outputs": [
    {
     "data": {
      "image/png": "[encoded data removed]",
      "text/plain": [
       "<Figure size 864x432 with 4 Axes>"
      ]
     },
     "metadata": {
      "needs_background": "light"
     },
     "output_type": "display_data"
    },
    {
     "name": "stdout",
     "output_type": "stream",
     "text": [
      "e_mean : 0.07978865670499519\n",
      "e_std : -0.003948597406702076\n",
      "s_mean : -0.04515896517043823\n",
      "s_std :  -0.008948685459303682\n"
     ]
    }
   ],
   "source": [
    "plt.figure(figsize=(12,6))\n",
    "\n",
    "plt.subplot(221)\n",
    "plt.title(\"Data\")\n",
    "plt.scatter(data.loc[:,\"e_mean\"],data.loc[:,\"price\"])\n",
    "plt.xlabel(\"e_mean\")\n",
    "\n",
    "plt.subplot(222)\n",
    "plt.scatter(data.loc[:,\"e_std\"],data.loc[:,\"price\"])\n",
    "plt.xlabel(\"e_std\")\n",
    "\n",
    "plt.subplot(223)\n",
    "plt.scatter(data.loc[:,\"s_mean\"],data.loc[:,\"price\"])\n",
    "plt.xlabel(\"s_mean\")\n",
    "\n",
    "plt.subplot(224)\n",
    "plt.scatter(data.loc[:,\"s_std\"],data.loc[:,\"price\"])\n",
    "plt.xlabel(\"s_std\")\n",
    "\n",
    "plt.tight_layout()\n",
    "plt.show()\n",
    "\n",
    "dc_em = data['e_mean'].corr(data['price'])\n",
    "dc_es = data['e_std'].corr(data['price'])\n",
    "dc_sm = data['s_mean'].corr(data['price'])\n",
    "dc_ss = data['s_std'].corr(data['price'])\n",
    "print(\"e_mean :\", dc_em)\n",
    "print(\"e_std :\", dc_es)\n",
    "print(\"s_mean :\", dc_sm)\n",
    "print(\"s_std : \", dc_ss)"
   ]
  },
  {
   "cell_type": "markdown",
   "metadata": {},
   "source": [
    " > 월 평균 환율과 부동산가격은 서로 상관이 없음.\n",
    " \n",
    " > 월 평균 주식거래액과 부동산가격은 서로 상관이 없음."
   ]
  },
  {
   "cell_type": "markdown",
   "metadata": {},
   "source": [
    "#### 2_modeling.ipynb 파일을 여세요.\n",
    "<a href=\"./2_modeling.ipynb\"> ☞ 2번째 파일 바로가기 <a>"
   ]
  },
  {
   "cell_type": "markdown",
   "metadata": {},
   "source": [
    "[▲처음으로 돌아가기](#목차)"
   ]
  }
 ],
 "metadata": {
  "kernelspec": {
   "display_name": "Python 3",
   "language": "python",
   "name": "python3"
  },
  "language_info": {
   "codemirror_mode": {
    "name": "ipython",
    "version": 3
   },
   "file_extension": ".py",
   "mimetype": "text/x-python",
   "name": "python",
   "nbconvert_exporter": "python",
   "pygments_lexer": "ipython3",
   "version": "3.7.1"
  }
 },
 "nbformat": 4,
 "nbformat_minor": 2
}
