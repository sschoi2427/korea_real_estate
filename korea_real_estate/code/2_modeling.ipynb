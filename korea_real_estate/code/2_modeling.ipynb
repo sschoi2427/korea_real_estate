{
 "cells": [
  {
   "cell_type": "markdown",
   "metadata": {},
   "source": [
    "## 목차\n",
    "\n",
    " 1. [데이터 로딩](#1.-데이터-로딩)\n",
    " \n",
    " \n",
    " 2. [회귀분석](#2.-회귀분석) <br>\n",
    "    a. [선형회귀모형](#b.-선형회귀모형) <br>\n",
    "    b. [릿지 회귀모형](#b.-릿지-회귀모형) <br>\n",
    "    c. [라쏘 회귀모형](#b.-라쏘-회귀모형)\n",
    "    \n",
    "    \n",
    " 3. [랜덤포레스트](#3.-랜덤포레스트)"
   ]
  },
  {
   "cell_type": "code",
   "execution_count": 1,
   "metadata": {},
   "outputs": [],
   "source": [
    "import numpy as np\n",
    "import pandas as pd\n",
    "\n",
    "import matplotlib as mpl\n",
    "import matplotlib.pyplot as plt\n",
    "%matplotlib inline\n",
    "import seaborn as sns\n",
    "\n",
    "import warnings\n",
    "warnings.filterwarnings(action='ignore')"
   ]
  },
  {
   "cell_type": "code",
   "execution_count": 2,
   "metadata": {},
   "outputs": [],
   "source": [
    "from scipy import stats\n",
    "\n",
    "from sklearn.model_selection import train_test_split, cross_val_score\n",
    "from sklearn.preprocessing import MinMaxScaler \n",
    "\n",
    "import statsmodels.api as sm # OLS선형회귀분석\n",
    "from sklearn.metrics import mean_squared_error"
   ]
  },
  {
   "cell_type": "markdown",
   "metadata": {},
   "source": [
    "참고 : https://datascienceschool.net/view-notebook/58269d7f52bd49879965cdc4721da42d/ <br>\n",
    "https://wikidocs.net/44450"
   ]
  },
  {
   "cell_type": "markdown",
   "metadata": {},
   "source": [
    "## 1. 데이터 로딩"
   ]
  },
  {
   "cell_type": "code",
   "execution_count": 3,
   "metadata": {},
   "outputs": [],
   "source": [
    "busan_2017 = pd.read_csv(\"../input/busan_2017.csv\", encoding=\"cp949\")\n",
    "busan_2018 = pd.read_csv(\"../input/busan_2018.csv\", encoding=\"cp949\")\n",
    "busan_2019 = pd.read_csv(\"../input/busan_2019.csv\", encoding=\"cp949\")"
   ]
  },
  {
   "cell_type": "code",
   "execution_count": 4,
   "metadata": {},
   "outputs": [],
   "source": [
    "seoul_2017 = pd.read_csv(\"../input/seoul_2017.csv\", encoding=\"cp949\")\n",
    "seoul_2018 = pd.read_csv(\"../input/seoul_2018.csv\", encoding=\"cp949\")\n",
    "seoul_2019 = pd.read_csv(\"../input/seoul_2019.csv\", encoding=\"cp949\")"
   ]
  },
  {
   "cell_type": "code",
   "execution_count": 5,
   "metadata": {},
   "outputs": [],
   "source": [
    "busan = pd.concat([busan_2017, busan_2018, busan_2019]) # 부산 병합\n",
    "seoul = pd.concat([seoul_2017, seoul_2018, seoul_2019]) # 서울 병합"
   ]
  },
  {
   "cell_type": "code",
   "execution_count": 6,
   "metadata": {},
   "outputs": [
    {
     "name": "stdout",
     "output_type": "stream",
     "text": [
      "index reset 완료\n"
     ]
    }
   ],
   "source": [
    "b_dict = { 'price' : busan['거래금액(만원)'],\n",
    "          'city' : busan['시군구'],\n",
    "          'se' : busan['단지명'],\n",
    "          'area' : busan['전용면적(㎡)'],\n",
    "          'mon' : busan['계약년월'],\n",
    "          'day' : busan['계약일'],\n",
    "          'floor' : busan['층'],\n",
    "          'build' : busan['건축년도'] }\n",
    "\n",
    "s_dict = { 'price' : seoul['거래금액(만원)'],\n",
    "          'city' : seoul['시군구'],\n",
    "          'se' : seoul['단지명'],\n",
    "          'area' : seoul['전용면적(㎡)'],\n",
    "          'mon' : seoul['계약년월'],\n",
    "          'day' : seoul['계약일'],\n",
    "          'floor' : seoul['층'],\n",
    "          'build' : seoul['건축년도'] }\n",
    "\n",
    "busan = pd.DataFrame(b_dict)\n",
    "seoul = pd.DataFrame(s_dict)\n",
    "\n",
    "busan.reset_index(drop=True, inplace=True)\n",
    "seoul.reset_index(drop=True, inplace=True)\n",
    "print(\"index reset 완료\")"
   ]
  },
  {
   "cell_type": "code",
   "execution_count": 7,
   "metadata": {},
   "outputs": [
    {
     "name": "stdout",
     "output_type": "stream",
     "text": [
      "99614 99614 99614\n",
      "261314 261314 261314\n",
      "부산, 서울 도시 별로 split 완료\n"
     ]
    }
   ],
   "source": [
    "#부산 구 단위\n",
    "b_si = []\n",
    "b_gu = []\n",
    "b_dong = []\n",
    "for i in range(len(busan)):\n",
    "    b = busan.loc[:,'city'][i].split()\n",
    "    b_si.append(b[0])\n",
    "    b_gu.append(b[0] + \" \" + b[1])\n",
    "    b_dong.append(b[0] + \" \" + b[1] + \" \" + b[2])\n",
    "print(len(b_si), len(b_gu), len(b_dong))\n",
    "\n",
    "busan[\"si\"] = b_si\n",
    "busan[\"gu\"] = b_gu\n",
    "busan[\"dong\"] = b_dong\n",
    "\n",
    "\n",
    "# 서울 구 단위\n",
    "s_si = []\n",
    "s_gu = []\n",
    "s_dong = []\n",
    "for i in range(len(seoul)):\n",
    "    s = seoul.loc[:,'city'][i].split()\n",
    "    s_si.append(s[0])\n",
    "    s_gu.append(s[0] + \" \" + s[1])\n",
    "    s_dong.append(s[0] + \" \" + s[1] + \" \" + s[2])\n",
    "print(len(s_si), len(s_gu), len(s_dong))\n",
    "\n",
    "seoul[\"si\"] = s_si\n",
    "seoul[\"gu\"] = s_gu\n",
    "seoul[\"dong\"] = s_dong\n",
    "\n",
    "print(\"부산, 서울 도시 별로 split 완료\")"
   ]
  },
  {
   "cell_type": "code",
   "execution_count": 8,
   "metadata": {},
   "outputs": [
    {
     "name": "stdout",
     "output_type": "stream",
     "text": [
      "(360928, 10)\n",
      "Index(['price', 'area', 'mon', 'day', 'floor', 'build', 'gu', 'dong', 'si',\n",
      "       'se'],\n",
      "      dtype='object')\n"
     ]
    },
    {
     "data": {
      "text/html": [
       "<div>\n",
       "<style scoped>\n",
       "    .dataframe tbody tr th:only-of-type {\n",
       "        vertical-align: middle;\n",
       "    }\n",
       "\n",
       "    .dataframe tbody tr th {\n",
       "        vertical-align: top;\n",
       "    }\n",
       "\n",
       "    .dataframe thead th {\n",
       "        text-align: right;\n",
       "    }\n",
       "</style>\n",
       "<table border=\"1\" class=\"dataframe\">\n",
       "  <thead>\n",
       "    <tr style=\"text-align: right;\">\n",
       "      <th></th>\n",
       "      <th>price</th>\n",
       "      <th>area</th>\n",
       "      <th>mon</th>\n",
       "      <th>day</th>\n",
       "      <th>floor</th>\n",
       "      <th>build</th>\n",
       "      <th>gu</th>\n",
       "      <th>dong</th>\n",
       "      <th>si</th>\n",
       "      <th>se</th>\n",
       "    </tr>\n",
       "  </thead>\n",
       "  <tbody>\n",
       "    <tr>\n",
       "      <th>360925</th>\n",
       "      <td>25800</td>\n",
       "      <td>57.18</td>\n",
       "      <td>201905</td>\n",
       "      <td>20</td>\n",
       "      <td>6</td>\n",
       "      <td>2003</td>\n",
       "      <td>서울특별시 중랑구</td>\n",
       "      <td>서울특별시 중랑구 중화동</td>\n",
       "      <td>서울특별시</td>\n",
       "      <td>한영(102)</td>\n",
       "    </tr>\n",
       "    <tr>\n",
       "      <th>360926</th>\n",
       "      <td>34500</td>\n",
       "      <td>82.17</td>\n",
       "      <td>201901</td>\n",
       "      <td>31</td>\n",
       "      <td>7</td>\n",
       "      <td>2007</td>\n",
       "      <td>서울특별시 중랑구</td>\n",
       "      <td>서울특별시 중랑구 중화동</td>\n",
       "      <td>서울특별시</td>\n",
       "      <td>현대휴앤미</td>\n",
       "    </tr>\n",
       "    <tr>\n",
       "      <th>360927</th>\n",
       "      <td>32800</td>\n",
       "      <td>64.48</td>\n",
       "      <td>201907</td>\n",
       "      <td>15</td>\n",
       "      <td>3</td>\n",
       "      <td>2007</td>\n",
       "      <td>서울특별시 중랑구</td>\n",
       "      <td>서울특별시 중랑구 중화동</td>\n",
       "      <td>서울특별시</td>\n",
       "      <td>현대휴앤미(102동)</td>\n",
       "    </tr>\n",
       "  </tbody>\n",
       "</table>\n",
       "</div>"
      ],
      "text/plain": [
       "        price   area     mon  day  floor  build         gu           dong  \\\n",
       "360925  25800  57.18  201905   20      6   2003  서울특별시 중랑구  서울특별시 중랑구 중화동   \n",
       "360926  34500  82.17  201901   31      7   2007  서울특별시 중랑구  서울특별시 중랑구 중화동   \n",
       "360927  32800  64.48  201907   15      3   2007  서울특별시 중랑구  서울특별시 중랑구 중화동   \n",
       "\n",
       "           si           se  \n",
       "360925  서울특별시      한영(102)  \n",
       "360926  서울특별시        현대휴앤미  \n",
       "360927  서울특별시  현대휴앤미(102동)  "
      ]
     },
     "execution_count": 8,
     "metadata": {},
     "output_type": "execute_result"
    }
   ],
   "source": [
    "# 데이터 병합\n",
    "data = pd.concat([busan, seoul])\n",
    "\n",
    "# 데이터 재 인덱싱\n",
    "data.reset_index(drop=True, inplace=True)\n",
    "\n",
    "#데이터 재정렬\n",
    "data = data[['price','area', 'mon', 'day', 'floor', 'build', 'gu', 'dong', 'si', 'se', 'city']]\n",
    "del data[\"city\"]\n",
    "\n",
    "print(data.shape)\n",
    "print(data.columns)\n",
    "data.tail(3)"
   ]
  },
  {
   "cell_type": "code",
   "execution_count": 9,
   "metadata": {},
   "outputs": [
    {
     "name": "stdout",
     "output_type": "stream",
     "text": [
      "      area     mon  day  floor  build         gu\n",
      "0  72.5242  201710    1      6   2017  부산광역시 강서구\n",
      "1  72.5242  201710    2      3   2017  부산광역시 강서구\n",
      "2  62.2475  201710   24      5   2017  부산광역시 강서구\n",
      "0    20500\n",
      "1    20500\n",
      "2    19000\n",
      "Name: price, dtype: int64\n"
     ]
    }
   ],
   "source": [
    "# X, Y값 설정\n",
    "X = data.iloc[:,1:7]\n",
    "print(X[:3])\n",
    "\n",
    "Y = data.iloc[:,0]\n",
    "print(Y[:3])"
   ]
  },
  {
   "cell_type": "code",
   "execution_count": 29,
   "metadata": {},
   "outputs": [
    {
     "name": "stdout",
     "output_type": "stream",
     "text": [
      "(252649, 6)\n",
      "2680     32900\n",
      "83253     7520\n",
      "84121    12150\n",
      "Name: price, dtype: int64\n"
     ]
    },
    {
     "data": {
      "text/html": [
       "<div>\n",
       "<style scoped>\n",
       "    .dataframe tbody tr th:only-of-type {\n",
       "        vertical-align: middle;\n",
       "    }\n",
       "\n",
       "    .dataframe tbody tr th {\n",
       "        vertical-align: top;\n",
       "    }\n",
       "\n",
       "    .dataframe thead th {\n",
       "        text-align: right;\n",
       "    }\n",
       "</style>\n",
       "<table border=\"1\" class=\"dataframe\">\n",
       "  <thead>\n",
       "    <tr style=\"text-align: right;\">\n",
       "      <th></th>\n",
       "      <th>area</th>\n",
       "      <th>mon</th>\n",
       "      <th>day</th>\n",
       "      <th>floor</th>\n",
       "      <th>build</th>\n",
       "      <th>gu</th>\n",
       "    </tr>\n",
       "  </thead>\n",
       "  <tbody>\n",
       "    <tr>\n",
       "      <th>2680</th>\n",
       "      <td>59.813</td>\n",
       "      <td>201711</td>\n",
       "      <td>1</td>\n",
       "      <td>22</td>\n",
       "      <td>1998</td>\n",
       "      <td>부산광역시 금정구</td>\n",
       "    </tr>\n",
       "    <tr>\n",
       "      <th>83253</th>\n",
       "      <td>50.430</td>\n",
       "      <td>201911</td>\n",
       "      <td>24</td>\n",
       "      <td>4</td>\n",
       "      <td>1992</td>\n",
       "      <td>부산광역시 사상구</td>\n",
       "    </tr>\n",
       "    <tr>\n",
       "      <th>84121</th>\n",
       "      <td>52.560</td>\n",
       "      <td>201908</td>\n",
       "      <td>30</td>\n",
       "      <td>2</td>\n",
       "      <td>1984</td>\n",
       "      <td>부산광역시 사상구</td>\n",
       "    </tr>\n",
       "  </tbody>\n",
       "</table>\n",
       "</div>"
      ],
      "text/plain": [
       "         area     mon  day  floor  build         gu\n",
       "2680   59.813  201711    1     22   1998  부산광역시 금정구\n",
       "83253  50.430  201911   24      4   1992  부산광역시 사상구\n",
       "84121  52.560  201908   30      2   1984  부산광역시 사상구"
      ]
     },
     "execution_count": 29,
     "metadata": {},
     "output_type": "execute_result"
    }
   ],
   "source": [
    "# 분석을 위한 데이터 분리 : HoldOut방법\n",
    "X_train, X_test, Y_train, Y_test = train_test_split(X, Y, test_size=0.3, random_state=256)\n",
    "print(X_train.shape)\n",
    "print(Y_train[:3])\n",
    "X_train[:3]"
   ]
  },
  {
   "cell_type": "code",
   "execution_count": null,
   "metadata": {},
   "outputs": [],
   "source": [
    "# 이상치 제거\n",
    "\n",
    "\n",
    "# 가변수 처리\n",
    "\n",
    "\n"
   ]
  },
  {
   "cell_type": "markdown",
   "metadata": {},
   "source": [
    "## 2. 회귀분석"
   ]
  },
  {
   "cell_type": "markdown",
   "metadata": {},
   "source": [
    "### a. 선형회귀모형\n",
    "- OLS을 이용한 선형회귀분석"
   ]
  },
  {
   "cell_type": "code",
   "execution_count": 11,
   "metadata": {},
   "outputs": [
    {
     "data": {
      "text/html": [
       "<table class=\"simpletable\">\n",
       "<caption>OLS Regression Results</caption>\n",
       "<tr>\n",
       "  <th>Dep. Variable:</th>          <td>price</td>      <th>  R-squared:         </th>  <td>   0.339</td>  \n",
       "</tr>\n",
       "<tr>\n",
       "  <th>Model:</th>                   <td>OLS</td>       <th>  Adj. R-squared:    </th>  <td>   0.339</td>  \n",
       "</tr>\n",
       "<tr>\n",
       "  <th>Method:</th>             <td>Least Squares</td>  <th>  F-statistic:       </th>  <td>2.588e+04</td> \n",
       "</tr>\n",
       "<tr>\n",
       "  <th>Date:</th>             <td>Mon, 16 Mar 2020</td> <th>  Prob (F-statistic):</th>   <td>  0.00</td>   \n",
       "</tr>\n",
       "<tr>\n",
       "  <th>Time:</th>                 <td>18:30:41</td>     <th>  Log-Likelihood:    </th> <td>-3.0226e+06</td>\n",
       "</tr>\n",
       "<tr>\n",
       "  <th>No. Observations:</th>      <td>252649</td>      <th>  AIC:               </th>  <td>6.045e+06</td> \n",
       "</tr>\n",
       "<tr>\n",
       "  <th>Df Residuals:</th>          <td>252643</td>      <th>  BIC:               </th>  <td>6.045e+06</td> \n",
       "</tr>\n",
       "<tr>\n",
       "  <th>Df Model:</th>              <td>     5</td>      <th>                     </th>      <td> </td>     \n",
       "</tr>\n",
       "<tr>\n",
       "  <th>Covariance Type:</th>      <td>nonrobust</td>    <th>                     </th>      <td> </td>     \n",
       "</tr>\n",
       "</table>\n",
       "<table class=\"simpletable\">\n",
       "<tr>\n",
       "      <td></td>         <th>coef</th>     <th>std err</th>      <th>t</th>      <th>P>|t|</th>  <th>[0.025</th>    <th>0.975]</th>  \n",
       "</tr>\n",
       "<tr>\n",
       "  <th>intercept</th> <td>-1.364e+07</td> <td> 1.82e+05</td> <td>  -75.105</td> <td> 0.000</td> <td> -1.4e+07</td> <td>-1.33e+07</td>\n",
       "</tr>\n",
       "<tr>\n",
       "  <th>area</th>      <td>  878.5331</td> <td>    2.544</td> <td>  345.294</td> <td> 0.000</td> <td>  873.546</td> <td>  883.520</td>\n",
       "</tr>\n",
       "<tr>\n",
       "  <th>mon</th>       <td>   68.7642</td> <td>    0.901</td> <td>   76.314</td> <td> 0.000</td> <td>   66.998</td> <td>   70.530</td>\n",
       "</tr>\n",
       "<tr>\n",
       "  <th>day</th>       <td>   40.5466</td> <td>    8.648</td> <td>    4.688</td> <td> 0.000</td> <td>   23.597</td> <td>   57.497</td>\n",
       "</tr>\n",
       "<tr>\n",
       "  <th>floor</th>     <td>  258.9392</td> <td>   11.698</td> <td>   22.136</td> <td> 0.000</td> <td>  236.012</td> <td>  281.867</td>\n",
       "</tr>\n",
       "<tr>\n",
       "  <th>build</th>     <td> -126.7085</td> <td>    7.698</td> <td>  -16.459</td> <td> 0.000</td> <td> -141.797</td> <td> -111.620</td>\n",
       "</tr>\n",
       "</table>\n",
       "<table class=\"simpletable\">\n",
       "<tr>\n",
       "  <th>Omnibus:</th>       <td>133013.298</td> <th>  Durbin-Watson:     </th>  <td>   2.000</td>  \n",
       "</tr>\n",
       "<tr>\n",
       "  <th>Prob(Omnibus):</th>   <td> 0.000</td>   <th>  Jarque-Bera (JB):  </th> <td>1742176.177</td>\n",
       "</tr>\n",
       "<tr>\n",
       "  <th>Skew:</th>            <td> 2.242</td>   <th>  Prob(JB):          </th>  <td>    0.00</td>  \n",
       "</tr>\n",
       "<tr>\n",
       "  <th>Kurtosis:</th>        <td>15.057</td>   <th>  Cond. No.          </th>  <td>4.85e+08</td>  \n",
       "</tr>\n",
       "</table><br/><br/>Warnings:<br/>[1] Standard Errors assume that the covariance matrix of the errors is correctly specified.<br/>[2] The condition number is large, 4.85e+08. This might indicate that there are<br/>strong multicollinearity or other numerical problems."
      ],
      "text/plain": [
       "<class 'statsmodels.iolib.summary.Summary'>\n",
       "\"\"\"\n",
       "                            OLS Regression Results                            \n",
       "==============================================================================\n",
       "Dep. Variable:                  price   R-squared:                       0.339\n",
       "Model:                            OLS   Adj. R-squared:                  0.339\n",
       "Method:                 Least Squares   F-statistic:                 2.588e+04\n",
       "Date:                Mon, 16 Mar 2020   Prob (F-statistic):               0.00\n",
       "Time:                        18:30:41   Log-Likelihood:            -3.0226e+06\n",
       "No. Observations:              252649   AIC:                         6.045e+06\n",
       "Df Residuals:                  252643   BIC:                         6.045e+06\n",
       "Df Model:                           5                                         \n",
       "Covariance Type:            nonrobust                                         \n",
       "==============================================================================\n",
       "                 coef    std err          t      P>|t|      [0.025      0.975]\n",
       "------------------------------------------------------------------------------\n",
       "intercept  -1.364e+07   1.82e+05    -75.105      0.000    -1.4e+07   -1.33e+07\n",
       "area         878.5331      2.544    345.294      0.000     873.546     883.520\n",
       "mon           68.7642      0.901     76.314      0.000      66.998      70.530\n",
       "day           40.5466      8.648      4.688      0.000      23.597      57.497\n",
       "floor        258.9392     11.698     22.136      0.000     236.012     281.867\n",
       "build       -126.7085      7.698    -16.459      0.000    -141.797    -111.620\n",
       "==============================================================================\n",
       "Omnibus:                   133013.298   Durbin-Watson:                   2.000\n",
       "Prob(Omnibus):                  0.000   Jarque-Bera (JB):          1742176.177\n",
       "Skew:                           2.242   Prob(JB):                         0.00\n",
       "Kurtosis:                      15.057   Cond. No.                     4.85e+08\n",
       "==============================================================================\n",
       "\n",
       "Warnings:\n",
       "[1] Standard Errors assume that the covariance matrix of the errors is correctly specified.\n",
       "[2] The condition number is large, 4.85e+08. This might indicate that there are\n",
       "strong multicollinearity or other numerical problems.\n",
       "\"\"\""
      ]
     },
     "execution_count": 11,
     "metadata": {},
     "output_type": "execute_result"
    }
   ],
   "source": [
    "X_train['intercept'] = 1\n",
    "lm = sm.OLS(Y_train, X_train[['intercept','area','mon','day','floor','build']]) # 잏단 '구'를 제거하고 분석하였음\n",
    "results = lm.fit()\n",
    "results.summary()"
   ]
  },
  {
   "cell_type": "markdown",
   "metadata": {},
   "source": [
    "> 다중공선성 분석이 필요! <br>\n",
    "  다중공선성 : 종속변수를 제외한 독립변수들 간에 강한 상관관계가 나타나는 문제\n",
    "  >> 다중공선성이 존재하면 선형모형에 좋지 않은 영향을 미치므로, 반드시 변수 선별이 필요함"
   ]
  },
  {
   "cell_type": "code",
   "execution_count": 12,
   "metadata": {},
   "outputs": [
    {
     "data": {
      "text/html": [
       "<div>\n",
       "<style scoped>\n",
       "    .dataframe tbody tr th:only-of-type {\n",
       "        vertical-align: middle;\n",
       "    }\n",
       "\n",
       "    .dataframe tbody tr th {\n",
       "        vertical-align: top;\n",
       "    }\n",
       "\n",
       "    .dataframe thead th {\n",
       "        text-align: right;\n",
       "    }\n",
       "</style>\n",
       "<table border=\"1\" class=\"dataframe\">\n",
       "  <thead>\n",
       "    <tr style=\"text-align: right;\">\n",
       "      <th></th>\n",
       "      <th>VIF Factor</th>\n",
       "      <th>features</th>\n",
       "    </tr>\n",
       "  </thead>\n",
       "  <tbody>\n",
       "    <tr>\n",
       "      <th>0</th>\n",
       "      <td>7.956631</td>\n",
       "      <td>area</td>\n",
       "    </tr>\n",
       "    <tr>\n",
       "      <th>1</th>\n",
       "      <td>41330.510666</td>\n",
       "      <td>mon</td>\n",
       "    </tr>\n",
       "    <tr>\n",
       "      <th>2</th>\n",
       "      <td>4.340339</td>\n",
       "      <td>day</td>\n",
       "    </tr>\n",
       "    <tr>\n",
       "      <th>3</th>\n",
       "      <td>3.271560</td>\n",
       "      <td>floor</td>\n",
       "    </tr>\n",
       "    <tr>\n",
       "      <th>4</th>\n",
       "      <td>41493.382224</td>\n",
       "      <td>build</td>\n",
       "    </tr>\n",
       "  </tbody>\n",
       "</table>\n",
       "</div>"
      ],
      "text/plain": [
       "     VIF Factor features\n",
       "0      7.956631     area\n",
       "1  41330.510666      mon\n",
       "2      4.340339      day\n",
       "3      3.271560    floor\n",
       "4  41493.382224    build"
      ]
     },
     "execution_count": 12,
     "metadata": {},
     "output_type": "execute_result"
    }
   ],
   "source": [
    "from statsmodels.stats.outliers_influence import variance_inflation_factor\n",
    "train_X_df = X_train.iloc[:,:-2]\n",
    "train_X_df\n",
    "vif = pd.DataFrame()\n",
    "vif[\"VIF Factor\"] = [variance_inflation_factor(train_X_df.values, i) for i in range(train_X_df.shape[1])]\n",
    "vif[\"features\"] = train_X_df.columns\n",
    "vif"
   ]
  },
  {
   "cell_type": "code",
   "execution_count": 13,
   "metadata": {},
   "outputs": [
    {
     "data": {
      "text/html": [
       "<div>\n",
       "<style scoped>\n",
       "    .dataframe tbody tr th:only-of-type {\n",
       "        vertical-align: middle;\n",
       "    }\n",
       "\n",
       "    .dataframe tbody tr th {\n",
       "        vertical-align: top;\n",
       "    }\n",
       "\n",
       "    .dataframe thead th {\n",
       "        text-align: right;\n",
       "    }\n",
       "</style>\n",
       "<table border=\"1\" class=\"dataframe\">\n",
       "  <thead>\n",
       "    <tr style=\"text-align: right;\">\n",
       "      <th></th>\n",
       "      <th>VIF Factor</th>\n",
       "      <th>features</th>\n",
       "    </tr>\n",
       "  </thead>\n",
       "  <tbody>\n",
       "    <tr>\n",
       "      <th>0</th>\n",
       "      <td>4.150032</td>\n",
       "      <td>area</td>\n",
       "    </tr>\n",
       "    <tr>\n",
       "      <th>1</th>\n",
       "      <td>3.169014</td>\n",
       "      <td>day</td>\n",
       "    </tr>\n",
       "    <tr>\n",
       "      <th>2</th>\n",
       "      <td>2.807078</td>\n",
       "      <td>floor</td>\n",
       "    </tr>\n",
       "  </tbody>\n",
       "</table>\n",
       "</div>"
      ],
      "text/plain": [
       "   VIF Factor features\n",
       "0    4.150032     area\n",
       "1    3.169014      day\n",
       "2    2.807078    floor"
      ]
     },
     "execution_count": 13,
     "metadata": {},
     "output_type": "execute_result"
    }
   ],
   "source": [
    "train_X_df = X_train[['area','day','floor']] # 다중공선성 : 값이 10 이상인 경우 해당 변수 제외\n",
    "train_X_df\n",
    "vif = pd.DataFrame()\n",
    "vif[\"VIF Factor\"] = [variance_inflation_factor(train_X_df.values, i) for i in range(train_X_df.shape[1])]\n",
    "vif[\"features\"] = train_X_df.columns\n",
    "vif"
   ]
  },
  {
   "cell_type": "code",
   "execution_count": 14,
   "metadata": {},
   "outputs": [
    {
     "data": {
      "text/html": [
       "<table class=\"simpletable\">\n",
       "<caption>OLS Regression Results</caption>\n",
       "<tr>\n",
       "  <th>Dep. Variable:</th>          <td>price</td>      <th>  R-squared:         </th>  <td>   0.323</td>  \n",
       "</tr>\n",
       "<tr>\n",
       "  <th>Model:</th>                   <td>OLS</td>       <th>  Adj. R-squared:    </th>  <td>   0.323</td>  \n",
       "</tr>\n",
       "<tr>\n",
       "  <th>Method:</th>             <td>Least Squares</td>  <th>  F-statistic:       </th>  <td>4.019e+04</td> \n",
       "</tr>\n",
       "<tr>\n",
       "  <th>Date:</th>             <td>Mon, 16 Mar 2020</td> <th>  Prob (F-statistic):</th>   <td>  0.00</td>   \n",
       "</tr>\n",
       "<tr>\n",
       "  <th>Time:</th>                 <td>18:30:42</td>     <th>  Log-Likelihood:    </th> <td>-3.0256e+06</td>\n",
       "</tr>\n",
       "<tr>\n",
       "  <th>No. Observations:</th>      <td>252649</td>      <th>  AIC:               </th>  <td>6.051e+06</td> \n",
       "</tr>\n",
       "<tr>\n",
       "  <th>Df Residuals:</th>          <td>252645</td>      <th>  BIC:               </th>  <td>6.051e+06</td> \n",
       "</tr>\n",
       "<tr>\n",
       "  <th>Df Model:</th>              <td>     3</td>      <th>                     </th>      <td> </td>     \n",
       "</tr>\n",
       "<tr>\n",
       "  <th>Covariance Type:</th>      <td>nonrobust</td>    <th>                     </th>      <td> </td>     \n",
       "</tr>\n",
       "</table>\n",
       "<table class=\"simpletable\">\n",
       "<tr>\n",
       "      <td></td>         <th>coef</th>     <th>std err</th>      <th>t</th>      <th>P>|t|</th>  <th>[0.025</th>    <th>0.975]</th>  \n",
       "</tr>\n",
       "<tr>\n",
       "  <th>intercept</th> <td>-1.352e+04</td> <td>  267.105</td> <td>  -50.630</td> <td> 0.000</td> <td> -1.4e+04</td> <td> -1.3e+04</td>\n",
       "</tr>\n",
       "<tr>\n",
       "  <th>area</th>      <td>  874.3250</td> <td>    2.573</td> <td>  339.843</td> <td> 0.000</td> <td>  869.283</td> <td>  879.368</td>\n",
       "</tr>\n",
       "<tr>\n",
       "  <th>day</th>       <td>   38.4289</td> <td>    8.750</td> <td>    4.392</td> <td> 0.000</td> <td>   21.280</td> <td>   55.578</td>\n",
       "</tr>\n",
       "<tr>\n",
       "  <th>floor</th>     <td>  245.5890</td> <td>   11.499</td> <td>   21.357</td> <td> 0.000</td> <td>  223.051</td> <td>  268.127</td>\n",
       "</tr>\n",
       "</table>\n",
       "<table class=\"simpletable\">\n",
       "<tr>\n",
       "  <th>Omnibus:</th>       <td>136873.932</td> <th>  Durbin-Watson:     </th>  <td>   1.999</td>  \n",
       "</tr>\n",
       "<tr>\n",
       "  <th>Prob(Omnibus):</th>   <td> 0.000</td>   <th>  Jarque-Bera (JB):  </th> <td>1796910.784</td>\n",
       "</tr>\n",
       "<tr>\n",
       "  <th>Skew:</th>            <td> 2.330</td>   <th>  Prob(JB):          </th>  <td>    0.00</td>  \n",
       "</tr>\n",
       "<tr>\n",
       "  <th>Kurtosis:</th>        <td>15.206</td>   <th>  Cond. No.          </th>  <td>    299.</td>  \n",
       "</tr>\n",
       "</table><br/><br/>Warnings:<br/>[1] Standard Errors assume that the covariance matrix of the errors is correctly specified."
      ],
      "text/plain": [
       "<class 'statsmodels.iolib.summary.Summary'>\n",
       "\"\"\"\n",
       "                            OLS Regression Results                            \n",
       "==============================================================================\n",
       "Dep. Variable:                  price   R-squared:                       0.323\n",
       "Model:                            OLS   Adj. R-squared:                  0.323\n",
       "Method:                 Least Squares   F-statistic:                 4.019e+04\n",
       "Date:                Mon, 16 Mar 2020   Prob (F-statistic):               0.00\n",
       "Time:                        18:30:42   Log-Likelihood:            -3.0256e+06\n",
       "No. Observations:              252649   AIC:                         6.051e+06\n",
       "Df Residuals:                  252645   BIC:                         6.051e+06\n",
       "Df Model:                           3                                         \n",
       "Covariance Type:            nonrobust                                         \n",
       "==============================================================================\n",
       "                 coef    std err          t      P>|t|      [0.025      0.975]\n",
       "------------------------------------------------------------------------------\n",
       "intercept  -1.352e+04    267.105    -50.630      0.000    -1.4e+04    -1.3e+04\n",
       "area         874.3250      2.573    339.843      0.000     869.283     879.368\n",
       "day           38.4289      8.750      4.392      0.000      21.280      55.578\n",
       "floor        245.5890     11.499     21.357      0.000     223.051     268.127\n",
       "==============================================================================\n",
       "Omnibus:                   136873.932   Durbin-Watson:                   1.999\n",
       "Prob(Omnibus):                  0.000   Jarque-Bera (JB):          1796910.784\n",
       "Skew:                           2.330   Prob(JB):                         0.00\n",
       "Kurtosis:                      15.206   Cond. No.                         299.\n",
       "==============================================================================\n",
       "\n",
       "Warnings:\n",
       "[1] Standard Errors assume that the covariance matrix of the errors is correctly specified.\n",
       "\"\"\""
      ]
     },
     "execution_count": 14,
     "metadata": {},
     "output_type": "execute_result"
    }
   ],
   "source": [
    "lm = sm.OLS(Y_train, X_train[['intercept','area','day','floor']])\n",
    "model = lm.fit()\n",
    "model.summary()"
   ]
  },
  {
   "cell_type": "code",
   "execution_count": 15,
   "metadata": {},
   "outputs": [
    {
     "name": "stdout",
     "output_type": "stream",
     "text": [
      "잔차\n"
     ]
    },
    {
     "data": {
      "text/plain": [
       "count    108279.000000\n",
       "mean       -169.822632\n",
       "std       38342.334801\n",
       "min     -145295.187038\n",
       "25%      -21736.774185\n",
       "50%       -6993.671110\n",
       "75%       11114.453464\n",
       "max      578190.405975\n",
       "dtype: float64"
      ]
     },
     "execution_count": 15,
     "metadata": {},
     "output_type": "execute_result"
    }
   ],
   "source": [
    "X_test['intercept'] = 1\n",
    "pred_y = model.predict(X_test[['intercept','area','day','floor']])\n",
    "residual = Y_test - pred_y \n",
    "print(\"잔차\")\n",
    "residual.describe()"
   ]
  },
  {
   "cell_type": "code",
   "execution_count": 16,
   "metadata": {},
   "outputs": [
    {
     "name": "stdout",
     "output_type": "stream",
     "text": [
      "MSE = 1470149900.4295828\n",
      "RMSE = 38342.53382902052\n"
     ]
    }
   ],
   "source": [
    "mse = mean_squared_error(pred_y, Y_test)\n",
    "rmse = mse ** 0.5\n",
    "print(\"MSE =\", mse)\n",
    "print(\"RMSE =\", rmse)"
   ]
  },
  {
   "cell_type": "markdown",
   "metadata": {},
   "source": [
    "### b. 릿지 회귀모형\n",
    "- Ridge 회귀분석\n",
    "https://bskyvision.com/687?category=751609"
   ]
  },
  {
   "cell_type": "code",
   "execution_count": 17,
   "metadata": {},
   "outputs": [
    {
     "name": "stdout",
     "output_type": "stream",
     "text": [
      "R_Squared = 0.32232322432683036\n",
      "MSE = 1472378259.599405\n",
      "RMSE = 38371.581406027624\n"
     ]
    }
   ],
   "source": [
    "from sklearn.linear_model import Ridge\n",
    "ridgeReg = Ridge(alpha=0.05, normalize=True)\n",
    "ridgeReg.fit(X_train[['area','day','floor']], Y_train)\n",
    "pred_y = ridgeReg.predict(X_test[['area','day','floor']])\n",
    "score = ridgeReg.score(X_train[['area','day','floor']], Y_train)\n",
    "mse = mean_squared_error(pred_y, Y_test)\n",
    "rmse = mse ** 0.5\n",
    "print(\"R_Squared =\", score)\n",
    "print(\"MSE =\", mse)\n",
    "print(\"RMSE =\", rmse)"
   ]
  },
  {
   "cell_type": "markdown",
   "metadata": {},
   "source": [
    "### b. 라쏘 회귀모형\n",
    "- Lasso 회귀분석 https://bskyvision.com/688?category=751609"
   ]
  },
  {
   "cell_type": "code",
   "execution_count": 18,
   "metadata": {},
   "outputs": [
    {
     "name": "stdout",
     "output_type": "stream",
     "text": [
      "R_Squared = 0.3230422667147047\n",
      "MSE = 1470184660.049268\n",
      "RMSE = 38342.98710389252\n"
     ]
    }
   ],
   "source": [
    "from sklearn.linear_model import Lasso\n",
    "lassoReg = Lasso(alpha=0.05, normalize=True)\n",
    "lassoReg.fit(X_train[['area','day','floor']], Y_train)\n",
    "pred_y = lassoReg.predict(X_test[['area','day','floor']])\n",
    "score = lassoReg.score(X_train[['area','day','floor']], Y_train)\n",
    "mse = mean_squared_error(pred_y, Y_test)\n",
    "rmse = mse ** 0.5\n",
    "print(\"R_Squared =\", score)\n",
    "print(\"MSE =\", mse)\n",
    "print(\"RMSE =\", rmse)"
   ]
  },
  {
   "cell_type": "markdown",
   "metadata": {},
   "source": [
    ">  이상치를 제거하고 가변수 처리를 해봐야 정확히 알겠지만, 선형회귀분석은, 이 데이터를 분석하기에는 그리 좋은 모델이 아님. 다른 방식이 필요함."
   ]
  },
  {
   "cell_type": "markdown",
   "metadata": {},
   "source": [
    "## 3. 랜덤포레스트"
   ]
  },
  {
   "cell_type": "code",
   "execution_count": 36,
   "metadata": {},
   "outputs": [],
   "source": [
    "from sklearn.ensemble import RandomForestRegressor\n",
    "\n",
    "model = RandomForestRegressor(n_estimators=100,\n",
    "                              n_jobs=-1,\n",
    "                              random_state=0)"
   ]
  },
  {
   "cell_type": "code",
   "execution_count": 43,
   "metadata": {},
   "outputs": [
    {
     "name": "stdout",
     "output_type": "stream",
     "text": [
      "(252649, 5)\n",
      "(252649,)\n",
      "(108279,) (108279,)\n"
     ]
    }
   ],
   "source": [
    "X_train, X_test, Y_train, Y_test = train_test_split(X, Y, test_size=0.3, random_state=256)\n",
    "X_train = X_train.iloc[:,:-1] # 잏단 '구'를 제거하고 분석하였음\n",
    "Y_train = Y_train\n",
    "print(X_train.shape)\n",
    "print(Y_train.shape)\n",
    "\n",
    "model.fit(X_train, Y_train)\n",
    "pred_y = model.predict(X_test.iloc[:,:-1])\n",
    "print(pred_y.shape, Y_test.shape)"
   ]
  },
  {
   "cell_type": "code",
   "execution_count": 53,
   "metadata": {},
   "outputs": [
    {
     "data": {
      "text/plain": [
       "[Text(0.5, 1.0, 'Predict')]"
      ]
     },
     "execution_count": 53,
     "metadata": {},
     "output_type": "execute_result"
    },
    {
     "data": {
      "image/png": "[encoded data removed]",
      "text/plain": [
       "<Figure size 864x360 with 2 Axes>"
      ]
     },
     "metadata": {
      "needs_background": "light"
     },
     "output_type": "display_data"
    }
   ],
   "source": [
    "fig, (ax1,ax2)= plt.subplots(ncols=2)\n",
    "\n",
    "fig.set_size_inches(12,5)\n",
    "\n",
    "sns.distplot(Y_test, ax=ax1, bins=50)\n",
    "ax1.set(title=\"Y_test\")\n",
    "\n",
    "sns.distplot(pred_y, ax=ax2, bins=50)\n",
    "ax2.set(title=\"Predict\")"
   ]
  },
  {
   "cell_type": "code",
   "execution_count": 54,
   "metadata": {},
   "outputs": [
    {
     "name": "stdout",
     "output_type": "stream",
     "text": [
      "Randomforest_Regression_정확도 : 0.7714673749263437\n"
     ]
    }
   ],
   "source": [
    "from sklearn.metrics import r2_score\n",
    "\n",
    "accuracy = r2_score(pred_y, Y_test)\n",
    "print(\"Randomforest_Regression_정확도 :\",accuracy)"
   ]
  },
  {
   "cell_type": "markdown",
   "metadata": {},
   "source": [
    "> 성능 향상을 위해 선형회귀분석 이전으로 돌아가 이상치 제거, 가변수 처리가 필요해보임. 차후 추가 예정. <br>\n",
    "이상치, 가변수 처리 이후 성능이 더이상 나아지지 않으면 추가적으로 아래 주소의 XGBOOST를 사용해 볼 예정임. <br>\n",
    "https://nonmeyet.tistory.com/entry/Python-%EC%A7%91%EA%B0%92-%EC%98%88%EC%B8%A1-%EB%AA%A8%EB%8D%B8-%EB%A7%8C%EB%93%A4%EA%B8%B0-%EC%BA%90%EA%B8%80-House-Prices-Regression-4"
   ]
  },
  {
   "cell_type": "markdown",
   "metadata": {},
   "source": [
    "[▲처음으로 돌아가기](#목차)"
   ]
  },
  {
   "cell_type": "markdown",
   "metadata": {},
   "source": [
    "<a href=\"./1_EDA.ipynb\"> ☞ 1번째 파일 바로가기 <a>"
   ]
  }
 ],
 "metadata": {
  "kernelspec": {
   "display_name": "Python 3",
   "language": "python",
   "name": "python3"
  },
  "language_info": {
   "codemirror_mode": {
    "name": "ipython",
    "version": 3
   },
   "file_extension": ".py",
   "mimetype": "text/x-python",
   "name": "python",
   "nbconvert_exporter": "python",
   "pygments_lexer": "ipython3",
   "version": "3.7.1"
  }
 },
 "nbformat": 4,
 "nbformat_minor": 2
}
